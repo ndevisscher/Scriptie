{
 "cells": [
  {
   "cell_type": "code",
   "execution_count": 1,
   "metadata": {
    "collapsed": false
   },
   "outputs": [],
   "source": [
    "%matplotlib inline\n",
    "import pandas as pd\n",
    "import re\n",
    "from lxml import etree \n",
    "from bz2file import BZ2File\n",
    "import bz2\n",
    "import codecs\n",
    "import xml\n",
    "import glob\n",
    "import os\n",
    "import bs4\n",
    "import collections\n",
    "from collections import defaultdict, Counter\n",
    "from bs4 import BeautifulSoup\n",
    "from pattern.nl import parsetree, pprint, singularize, pluralize\n",
    "from pattern.metrics import readability\n",
    "from xml import parsers\n",
    "import xml.parsers.expat\n",
    "from xml.etree import cElementTree as ET\n",
    "from xml.dom.minidom import parse\n",
    "import matplotlib.pyplot as plt\n",
    "from IPython.display import display, HTML "
   ]
  },
  {
   "cell_type": "code",
   "execution_count": 2,
   "metadata": {
    "collapsed": false
   },
   "outputs": [
    {
     "name": "stdout",
     "output_type": "stream",
     "text": [
      "Troonrede parsing\n"
     ]
    },
    {
     "name": "stderr",
     "output_type": "stream",
     "text": [
      "C:\\Users\\niek\\Anaconda2\\lib\\site-packages\\bs4\\__init__.py:166: UserWarning: No parser was explicitly specified, so I'm using the best available HTML parser for this system (\"lxml\"). This usually isn't a problem, but if you run this code on another system, or in a different virtual environment, it may use a different parser and behave differently.\n",
      "\n",
      "To get rid of this warning, change this:\n",
      "\n",
      " BeautifulSoup([your markup])\n",
      "\n",
      "to this:\n",
      "\n",
      " BeautifulSoup([your markup], \"lxml\")\n",
      "\n",
      "  markup_type=markup_type))\n"
     ]
    }
   ],
   "source": [
    "def parse_troonrede(f):\n",
    "    '''Read a troonrede file, extract all text and output a list of lists, \n",
    "    each element is a paragraph containing a list of sentences,\n",
    "    each sentence is parsed.'''\n",
    "    soup= BeautifulSoup(open(f).read())\n",
    "    ourdiv=soup.find('div', id=\"post-content\") \n",
    "    ourpars= [parsetree(p.text, lemmata=True, Relations=True) for p in ourdiv.findAll('p')]\n",
    "    return ourpars\n",
    "\n",
    "# this applies step 2 to all troonredes \n",
    "def parse_corpus(folder):\n",
    "    alltroonredes= glob.glob(os.path.join(folder, '*.html'))\n",
    "    troonredes={}\n",
    "    for troonrede in alltroonredes:\n",
    "        key= troonrede.split('\\\\')[1].replace('.html','')\n",
    "        value= parse_troonrede(troonrede)\n",
    "        troonredes[key]=value\n",
    "    return troonredes\n",
    "\n",
    "parsedtroonredes= parse_corpus('files')\n",
    "print \"Troonrede parsing\""
   ]
  },
  {
   "cell_type": "code",
   "execution_count": 19,
   "metadata": {
    "collapsed": false
   },
   "outputs": [],
   "source": [
    "def processText(parsedcorpus):\n",
    "    wordsPerPara= [list([ w.lemma for s in p for w in s])  for p in parsedcorpus  ]\n",
    "    return wordsPerPara\n",
    "\n",
    "tekst= {k:processText(parsedtroonredes[k]) for k in parsedtroonredes}"
   ]
  },
  {
   "cell_type": "code",
   "execution_count": 4,
   "metadata": {
    "collapsed": true
   },
   "outputs": [],
   "source": [
    "def getData(parsedcorpus):\n",
    "    wordsPerPara= [list([ w for s in p for w in s.nouns])  for p in parsedcorpus  ]\n",
    "    return wordsPerPara\n",
    "\n",
    "data = {k:getData(parsedtroonredes[k]) for k in parsedtroonredes}"
   ]
  },
  {
   "cell_type": "code",
   "execution_count": 5,
   "metadata": {
    "collapsed": false
   },
   "outputs": [
    {
     "name": "stdout",
     "output_type": "stream",
     "text": [
      "[u'Leden', u'Staten-Generaal']\n",
      "[u'tijd', u'vastberadenheid', u'bereidheid', u'verandering', u'wereldwijde', u'crisis', u'Nederland', u'snelheid', u'gebeurtenissen', u'jaar', u'Mensen', u'baan', u'aantal', u'faillissementen', u'vermogens', u'slinken', u'overheidsfinanci\\xebn', u'tekorten', u'gevolgen', u'ontsporingen', u'sector', u'instituties', u'bestuurders', u'onzekerheid', u'toekomst']\n",
      "[u'ambitie', u'regering', u'onzekerheden', u'herstel', u'veranderingen', u'perspectief', u'Nederland', u'land', u'saamhorigheid', u'traditie', u'vrijheid', u'burgerschap', u'opstelling']\n",
      "[u'najaar', u'regering', u'kracht', u'ingegrepen', u'sector', u'spaartegoeden', u'burgers', u'financiering', u'bedrijven', u'instorten', u'economie']\n",
      "[u'euro', u'nieuwbouw', u'onderhoud', u'scholen', u'ziekenhuizen', u'woningen', u'infrastructuur', u'energiebesparing', u'regering', u'economie', u'euro', u'bedrijfsleven', u'onderwijs', u'kennis', u'Bedrijven', u'kredietfaciliteiten', u'regelingen', u'deeltijdwerkloosheid', u'werknemers', u'baan']\n",
      "[u'euro', u'uitgegeven', u'uitkeringen', u'werkloosheid', u'bijstand', u'begroting', u'aandacht', u'bestrijding', u'jeugdwerkloosheid']\n",
      "[u'regering', u'voorstel', u'Crisis\\u2013', u'herstelwet', u'versnelling', u'procedures', u'projecten', u'basis', u'dynamiek', u'economie', u'werkgelegenheid']\n",
      "[u'jaren', u'economie', u'overheidsuitgaven', u'maatregelen', u'gevolgen', u'recessie', u'termijn', u'jaren', u'begroting', u'basis', u'herstel', u'overheidsfinanci\\xebn']\n",
      "[u'staatsschuld', u'overschot', u'\\xe9\\xe9n', u'procent', u'bruto', u'binnenlands', u'product', u'begroting', u'jaar', u'tekort', u'procent', u'recessie', u'belastingafdrachten', u'burgers', u'bedrijven', u'groei', u'procent', u'staatsschuld', u'euro', u'per\\xa0jaar']\n",
      "[u'economie', u'jaar', u'voorzichtig', u'opgaven', u'welvaart', u'staatsschuld', u'kosten', u'bevolking', u'overgang', u'economie', u'voluit', u'recht', u'eisen', u'klimaat\\u2013', u'milieubeleid', u'beleid', u'gevolgen', u'hoogte', u'belastingen', u'premies', u'werkgelegenheid', u'betaalbaarheid', u'voorzieningen', u'zorg', u'onderwijs', u'pensioenen']\n",
      "[u'regering', u'rekeningen', u'generaties', u'werk', u'leven', u'lasten', u'bevolking', u'voorzieningen', u'licht', u'regering', u'voornemens', u'rekening', u'AOW-leeftijd', u'jaar', u'kosten', u'zorg', u'eigenaren', u'huizen', u'waarde', u'euro']\n",
      "[u'eind', u'jaar', u'voorstel', u'Wet', u'tekortreductie', u'Rijk', u'medeoverheden', u'regering', u'januari', u'werking', u'wet', u'saldo', u'uitgaven', u'inkomsten']\n",
      "[u'regering', u'halfjaar', u'heroverwegingen', u'twintigtal', u'terreinen', u'sector', u'Voorjaarsnota', u'gelegenheid', u'maatregelen', u'herstel', u'overheidsfinanci\\xebn', u'procent', u'besparing', u'doelen', u'zicht', u'mogelijkheden', u'diensten', u'burgers', u'beleid', u'stemmen', u'problemen', u'samenleving', u'verantwoordelijkheden', u'overheden', u'burgers', u'vorm', u'heroverwegingen', u'onderwijs', u'kennis', u'innovatie', u'ondernemerschap', u'doelgerichter', u'groei', u'sectoren', u'bedrijfsleven', u'waterbeheer', u'energie', u'landbouw', u'visserij', u'klimaat', u'milieu', u'heroverwegingen', u'doel', u'keuzes', u'oog', u'Nederland']\n",
      "[u'loonontwikkeling', u'werkgelegenheid', u'verdeling', u'lasten', u'recessie', u'niet-werkenden', u'sector', u'marktsector', u'inkomens', u'regering', u'partners', u'loonontwikkeling', u'regering', u'verantwoordelijkheid']\n",
      "[u'recessie', u'tekortkomingen', u'markt', u'maatschappij', u'regering', u'gebreken', u'sector', u'Nederland', u'vertaald', u'normering', u'toezicht', u'afspraken', u'begrenzing', u'beloningen', u'bonussen']\n",
      "[u'tijd', u'regering', u'belang', u'samenleving', u'mensen', u'vrijheid', u'verantwoordelijkheid', u'opvoeding', u'onderwijs', u'grondslag', u'burgerschap', u'jaar', u'regering', u'maatregelen', u'bevordering', u'samenhang', u'veiligheid', u'stabiliteit', u'respect', u'aanpak', u'reeks', u'jaren', u'resultaten', u'regering', u'aandacht', u'jeugd', u'inburgering', u'wijken', u'steden']\n",
      "[u'Gebrek', u'integratie', u'groepen', u'samenleving', u'ruimte', u'gedrag', u'groepen', u'ongenoegen', u'regering', u'consequent', u'plegers', u'delicten', u'oorzaken', u'gedrag', u'samenwerking', u'justitie', u'politie', u'gemeenten', u'reclassering', u'jeugdzorg', u'essentieel']\n",
      "[u'regering', u'weerbaarheid', u'land', u'bevorderen', u'ruimte', u'burgers', u'organisaties', u'medeoverheden', u'sector', u'samenwerking', u'organisaties', u'democratie', u'rechtsstaat', u'belang']\n",
      "[u'Nederland', u'samenwerking', u'Europa', u'ori\\xebntatie', u'Nederland', u'duurzame', u'wereldeconomie', u'procent', u'werkgelegenheid', u'Nederland', u'wereldhandel', u'toezicht', u'sector', u'recessie', u'verzwaart', u'opgaven', u'landen', u'armoede', u'klimaatverandering', u'land', u'samenwerking', u'landen', u'landen', u'economie\\xebn', u'verlaging', u'uitstoot', u'stoffen', u'Algemene', u'Vergadering', u'Verenigde', u'Naties', u'Pittsburgh', u'klimaatconferentie', u'Kopenhagen', u'jaar', u'gelegenheid']\n",
      "[u'Nederland', u'wereld', u'vrede', u'veiligheid', u'land', u'mensenrechten', u'vrijheid', u'democratie', u'Europa', u'oorsprong', u'samenwerking', u'essentieel', u'regering', u'inwerkingtreding', u'Verdrag', u'Lissabon', u'vredes\\u2013', u'veiligheidsmissies', u'land', u'verantwoordelijkheid', u'regering', u'waardering', u'militairen', u'taken', u'Afghanistan', u'respect', u'leven', u'gewond']\n",
      "[u'regering', u'Koninkrijksverband', u'overheidsfinanci\\xebn', u'voorzieningen', u'verhoudingen', u'Koninkrijk', u'bijdragen', u'belang', u'burgers', u'betrokkenen', u'jaar', u'regelingen', u'stand']\n",
      "[u'Leden', u'Staten-Generaal', u'land', u'opgave', u'vastberadenheid', u'bereidheid', u'verandering', u'kansen', u'benutten', u'Nederland', u'regering', u'beroep', u'Nederlanders', u'Nederland', u'rust', u'verantwoordelijkheid', u'jong', u'burgers', u'bestuurders', u'werknemers', u'werkgevers', u'regering', u'hoop', u'bewust', u'leden', u'Staten-Generaal', u'rust', u'verantwoordelijkheid', u'regering', u'initiatief', u'besef', u'wijsheid', u'toewensen', u'kracht', u'Gods', u'zegen']\n"
     ]
    }
   ],
   "source": [
    "for paragraph in data['2009']:\n",
    "    iets = []\n",
    "    for word in paragraph:\n",
    "        iets.append(word.string)\n",
    "    print iets"
   ]
  },
  {
   "cell_type": "code",
   "execution_count": 4,
   "metadata": {
    "collapsed": false
   },
   "outputs": [],
   "source": [
    "'''Functie om het aantal lettergrepen te bepalen van een woord'''\n",
    "def syllablesCount(word):\n",
    "    count = 0\n",
    "    vowels = 'aeiouy'\n",
    "    word = word.lower().strip(\".:;?!\")\n",
    "    if word[0] in vowels:\n",
    "        count +=1\n",
    "    for index in range(1,len(word)):\n",
    "        if word[index] in vowels and word[index-1] not in vowels:\n",
    "            count +=1\n",
    "    if count == 0:\n",
    "        count +=1\n",
    "    return count"
   ]
  },
  {
   "cell_type": "code",
   "execution_count": 5,
   "metadata": {
    "collapsed": false
   },
   "outputs": [
    {
     "name": "stdout",
     "output_type": "stream",
     "text": [
      "- dataPerYear bevat per jaar: aantal paragrafen, aantal zinnen, aantal woorden en aantal lettergrepen in de gehele troonrede\n",
      "- redes bevat per jaar de gehele troonrede als tekst\n"
     ]
    }
   ],
   "source": [
    "'''Per jaar de hoeveelheid paragrafen, zinnen en woorden'''\n",
    "redes = {}\n",
    "dataPerYear = {}\n",
    "for troonrede in parsedtroonredes:\n",
    "    year = troonrede\n",
    "    paragraphs = 0\n",
    "    sentences = 0\n",
    "    words = 0\n",
    "    syllables = 0\n",
    "    rede = \"\"\n",
    "    for paragraph in parsedtroonredes[troonrede]:\n",
    "        paragraphs += 1\n",
    "        sentences += len(paragraph)\n",
    "        for sentence in paragraph:\n",
    "            words += len(sentence)\n",
    "            for word in sentence:\n",
    "                if word.string == \".\" or word.string == \",\":\n",
    "                    rede += word.string\n",
    "                else:\n",
    "                    rede += \" \" + word.string\n",
    "                    try:\n",
    "                        syllables += syllablesCount(word.string)\n",
    "                    except:\n",
    "                        pass\n",
    "    redes[year] = rede            \n",
    "    data = [paragraphs,sentences,words,syllables]\n",
    "    dataPerYear[year] = data\n",
    "print \"- dataPerYear bevat per jaar: aantal paragrafen, aantal zinnen, aantal woorden en aantal lettergrepen in de gehele troonrede\"\n",
    "print \"- redes bevat per jaar de gehele troonrede als tekst\""
   ]
  },
  {
   "cell_type": "code",
   "execution_count": 56,
   "metadata": {
    "collapsed": false
   },
   "outputs": [
    {
     "ename": "KeyError",
     "evalue": "'leed'",
     "output_type": "error",
     "traceback": [
      "\u001b[1;31m---------------------------------------------------------------------------\u001b[0m",
      "\u001b[1;31mKeyError\u001b[0m                                  Traceback (most recent call last)",
      "\u001b[1;32m<ipython-input-56-a26bc4684dbd>\u001b[0m in \u001b[0;36m<module>\u001b[1;34m()\u001b[0m\n\u001b[0;32m     10\u001b[0m                 \u001b[0mdataDict\u001b[0m\u001b[1;33m[\u001b[0m\u001b[0mword\u001b[0m\u001b[1;33m]\u001b[0m \u001b[1;33m=\u001b[0m \u001b[1;36m1\u001b[0m\u001b[1;33m\u001b[0m\u001b[0m\n\u001b[0;32m     11\u001b[0m \u001b[1;33m\u001b[0m\u001b[0m\n\u001b[1;32m---> 12\u001b[1;33m \u001b[1;32mprint\u001b[0m \u001b[0mdataDict\u001b[0m\u001b[1;33m[\u001b[0m\u001b[1;34m\"leed\"\u001b[0m\u001b[1;33m]\u001b[0m\u001b[1;33m\u001b[0m\u001b[0m\n\u001b[0m",
      "\u001b[1;31mKeyError\u001b[0m: 'leed'"
     ]
    }
   ],
   "source": [
    "'''Data zonder lemmatiseren'''\n",
    "dataDict = {}\n",
    "for troonrede in sorted(data):\n",
    "    for paragraph in data[troonrede]:\n",
    "        for words in paragraph:\n",
    "            word = words.string.lower()\n",
    "            if word in dataDict:\n",
    "                dataDict[word] += 1\n",
    "            else:\n",
    "                dataDict[word] = 1\n",
    "                "
   ]
  },
  {
   "cell_type": "code",
   "execution_count": 55,
   "metadata": {
    "collapsed": false
   },
   "outputs": [
    {
     "name": "stdout",
     "output_type": "stream",
     "text": [
      "108\n"
     ]
    }
   ],
   "source": [
    "'''Data met lemmatiseren'''\n",
    "lemmaDict = {}\n",
    "for troonrede in sorted(tekst):\n",
    "    for paragraph in tekst[troonrede]:\n",
    "        for word in paragraph:\n",
    "            try:\n",
    "                if str(word) in lemmaDict:\n",
    "                    lemmaDict[str(word)] += 1\n",
    "                else:\n",
    "                    lemmaDict[str(word)] = 1\n",
    "            except:\n",
    "                pass\n"
   ]
  },
  {
   "cell_type": "code",
   "execution_count": 9,
   "metadata": {
    "collapsed": false
   },
   "outputs": [
    {
     "name": "stdout",
     "output_type": "stream",
     "text": [
      "1818 75\n",
      "1820 61\n",
      "1821 67\n",
      "1822 75\n",
      "1823 79\n",
      "1824 75\n",
      "1825 67\n",
      "1826 51\n",
      "1827 69\n",
      "1828 45\n",
      "1829 51\n",
      "1830 39\n",
      "1831 39\n",
      "1832 59\n",
      "1833 41\n",
      "1834 53\n",
      "1835 59\n",
      "1836 83\n",
      "1838 83\n",
      "1839 83\n",
      "1840 67\n",
      "1841 71\n",
      "1842 79\n",
      "1843 75\n",
      "1844 85\n",
      "1845 81\n",
      "1846 75\n",
      "1847 75\n",
      "1848 57\n",
      "1849 83\n",
      "1870 95\n",
      "1871 97\n",
      "1872 93\n",
      "1873 89\n",
      "1874 89\n",
      "1875 79\n",
      "1876 93\n",
      "1877 89\n",
      "1878 91\n",
      "1879 95\n",
      "1880 97\n",
      "1882 99\n",
      "1883 93\n",
      "1884 81\n",
      "1885 87\n",
      "1886 97\n",
      "1887 93\n",
      "1891 93\n",
      "1892 89\n",
      "1893 97\n",
      "1894 77\n",
      "1895 95\n",
      "1896 93\n",
      "1897 93\n",
      "1898 91\n",
      "1899 89\n",
      "1900 87\n",
      "1904 89\n",
      "1923 85\n",
      "1925 89\n",
      "1926 87\n",
      "1927 81\n",
      "1928 87\n",
      "1929 87\n",
      "1930 87\n",
      "1931 81\n",
      "1932 81\n",
      "1933 77\n",
      "1934 75\n",
      "1935 79\n",
      "1936 79\n",
      "1937 67\n",
      "1938 69\n",
      "1939 85\n",
      "1946 77\n",
      "1954 83\n",
      "1955 83\n",
      "1956 87\n",
      "1957 85\n",
      "1958 83\n",
      "1959 73\n",
      "1960 81\n",
      "1961 83\n",
      "1962 85\n",
      "1963 85\n",
      "1964 89\n",
      "1965 87\n",
      "1966 89\n",
      "1967 85\n",
      "1976 91\n",
      "1978 93\n",
      "1979 95\n",
      "1980 91\n",
      "1981 91\n",
      "1982 91\n",
      "1983 91\n",
      "1984 91\n",
      "1985 89\n",
      "1986 91\n",
      "1987 93\n",
      "1988 89\n",
      "1989 89\n",
      "2000 97\n",
      "2001 97\n",
      "2002 91\n",
      "2003 95\n",
      "2004 95\n",
      "2005 99\n",
      "2006 99\n",
      "2007 99\n",
      "2008 103\n",
      "2009 91\n",
      "2010 97\n",
      "2011 95\n",
      "2012 93\n",
      "2013 93\n",
      "2014 93\n"
     ]
    }
   ],
   "source": [
    "'''Bepalen van AVI niveau per jaar, hoe lager de score, hoe moeilijker de tekst'''\n",
    "for year in sorted(dataPerYear):\n",
    "    gemZinslengte = dataPerYear[year][2]/dataPerYear[year][1]\n",
    "    gemWoordlengte = dataPerYear[year][3]/dataPerYear[year][2]\n",
    "    leesindex = 195 - (2*gemZinslengte) - (200/3)*gemWoordlengte\n",
    "    print year, leesindex"
   ]
  },
  {
   "cell_type": "code",
   "execution_count": 11,
   "metadata": {
    "collapsed": false
   },
   "outputs": [
    {
     "name": "stdout",
     "output_type": "stream",
     "text": [
      "1818 21.9686751337\n",
      "1820 17.381832088\n",
      "1821 17.4356530716\n",
      "1822 21.0736280376\n",
      "1823 24.2323457591\n",
      "1824 23.0216402157\n",
      "1825 16.684184888\n",
      "1826 8.24225802139\n",
      "1827 13.5569300653\n",
      "1828 3.72675768968\n",
      "1829 6.8566058129\n",
      "1830 3.78638607595\n",
      "1831 3.67942741935\n",
      "1832 9.0654939759\n",
      "1833 0.0\n",
      "1834 4.0769539749\n",
      "1835 7.9655632515\n",
      "1836 19.4084420156\n",
      "1838 22.3172774899\n",
      "1839 18.7728996656\n",
      "1840 13.709185567\n",
      "1841 16.7469725527\n",
      "1842 17.0549591529\n",
      "1843 12.1424920799\n",
      "1844 22.7245703226\n",
      "1845 20.9697295597\n",
      "1846 12.0201630417\n",
      "1847 18.5037771084\n",
      "1848 16.4074150943\n",
      "1849 25.1052285143\n",
      "1870 22.3959712644\n",
      "1871 27.5113567062\n",
      "1872 22.8651306857\n",
      "1873 20.9431542331\n",
      "1874 21.9104210526\n",
      "1875 17.8167115282\n",
      "1876 23.0936708408\n",
      "1877 20.0242608117\n",
      "1878 26.3679350649\n",
      "1879 29.7935294282\n",
      "1880 20.8926818182\n",
      "1882 25.0127727273\n",
      "1883 23.7571205242\n",
      "1884 20.1094603524\n",
      "1885 18.8962843137\n",
      "1886 22.0910714286\n",
      "1887 23.4358093923\n",
      "1891 17.9484166667\n",
      "1892 22.6765806452\n",
      "1893 25.78925\n",
      "1894 14.2607217391\n",
      "1895 28.7075780642\n",
      "1896 25.2864021226\n",
      "1897 26.3599400882\n",
      "1898 25.3637207207\n",
      "1899 20.3251895425\n",
      "1900 22.3008888889\n",
      "1904 26.7634479216\n",
      "1923 15.7164664247\n",
      "1925 19.2702221367\n",
      "1926 23.1949117647\n",
      "1927 19.0552565209\n",
      "1928 19.7594649286\n",
      "1929 18.8078120819\n",
      "1930 18.7701256158\n",
      "1931 19.743362504\n",
      "1932 22.6302846596\n",
      "1933 12.4066889058\n",
      "1934 14.5690391371\n",
      "1935 17.6198972332\n",
      "1936 12.6039739471\n",
      "1937 5.82212943534\n",
      "1938 11.600265851\n",
      "1939 19.6713370412\n",
      "1946 17.5061695464\n",
      "1954 21.0837164194\n",
      "1955 19.3942091097\n",
      "1956 22.168625\n",
      "1957 16.9639590884\n",
      "1958 22.2652348245\n",
      "1959 15.4751890906\n",
      "1960 17.7871328391\n",
      "1961 16.1734353429\n",
      "1962 17.2369534884\n",
      "1963 18.6389159958\n",
      "1964 21.0222646185\n",
      "1965 16.9986345395\n",
      "1966 18.4964783131\n",
      "1967 19.0174612752\n",
      "1976 17.6580802378\n",
      "1978 20.6196674195\n",
      "1979 27.2452563795\n",
      "1980 25.9474690011\n",
      "1981 22.9062421053\n",
      "1982 22.0953229275\n",
      "1983 27.8037349515\n",
      "1984 24.2695830434\n",
      "1985 21.5519807195\n",
      "1986 22.03752942\n",
      "1987 21.984479575\n",
      "1988 17.5054753179\n",
      "1989 17.7146321013\n",
      "2000 18.2412751177\n",
      "2001 20.522537023\n",
      "2002 16.3866457766\n",
      "2003 17.5841329033\n",
      "2004 17.2118291557\n",
      "2005 26.1836088316\n",
      "2006 25.1798267927\n",
      "2007 25.3266421837\n",
      "2008 26.4747040165\n",
      "2009 17.3754481947\n",
      "2010 22.8455377426\n",
      "2011 24.9688385753\n",
      "2012 22.5965436253\n",
      "2013 24.8954449933\n",
      "2014 27.3828592058\n"
     ]
    }
   ],
   "source": [
    "'''Tekst leesbaarheidsniveau per jaar aan de hand van de \"Flesch–Kincaid readability test\"'''\n",
    "for rede in sorted(redes):\n",
    "    print rede, (readability(redes[rede])*100)"
   ]
  }
 ],
 "metadata": {
  "kernelspec": {
   "display_name": "Python 2",
   "language": "python",
   "name": "python2"
  },
  "language_info": {
   "codemirror_mode": {
    "name": "ipython",
    "version": 2
   },
   "file_extension": ".py",
   "mimetype": "text/x-python",
   "name": "python",
   "nbconvert_exporter": "python",
   "pygments_lexer": "ipython2",
   "version": "2.7.11"
  }
 },
 "nbformat": 4,
 "nbformat_minor": 0
}
