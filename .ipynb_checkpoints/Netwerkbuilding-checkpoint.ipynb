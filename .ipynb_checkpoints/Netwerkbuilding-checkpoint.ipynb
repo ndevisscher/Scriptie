{
 "cells": [
  {
   "cell_type": "code",
   "execution_count": 1,
   "metadata": {
    "collapsed": false
   },
   "outputs": [],
   "source": [
    "%matplotlib inline\n",
    "import pandas as pd\n",
    "import re\n",
    "from lxml import etree \n",
    "from bz2file import BZ2File\n",
    "import bz2\n",
    "import codecs\n",
    "import xml\n",
    "import glob\n",
    "import os\n",
    "import bs4\n",
    "import collections\n",
    "import itertools\n",
    "import math\n",
    "import networkx as nx\n",
    "import community\n",
    "import pickle\n",
    "from collections import defaultdict, Counter\n",
    "from bs4 import BeautifulSoup\n",
    "from pattern.nl import parsetree, pprint, singularize, pluralize\n",
    "from pattern.metrics import readability\n",
    "from xml import parsers\n",
    "import xml.parsers.expat\n",
    "from xml.etree import cElementTree as ET\n",
    "from xml.dom.minidom import parse\n",
    "import matplotlib.pyplot as plt\n",
    "from IPython.display import display, HTML\n",
    "import timeit\n",
    "\n",
    "import treetagger"
   ]
  },
  {
   "cell_type": "code",
   "execution_count": 2,
   "metadata": {
    "collapsed": false
   },
   "outputs": [
    {
     "name": "stdout",
     "output_type": "stream",
     "text": [
      "Troonrede parsing\n"
     ]
    },
    {
     "name": "stderr",
     "output_type": "stream",
     "text": [
      "C:\\Users\\niek\\Anaconda2\\lib\\site-packages\\bs4\\__init__.py:166: UserWarning: No parser was explicitly specified, so I'm using the best available HTML parser for this system (\"lxml\"). This usually isn't a problem, but if you run this code on another system, or in a different virtual environment, it may use a different parser and behave differently.\n",
      "\n",
      "To get rid of this warning, change this:\n",
      "\n",
      " BeautifulSoup([your markup])\n",
      "\n",
      "to this:\n",
      "\n",
      " BeautifulSoup([your markup], \"lxml\")\n",
      "\n",
      "  markup_type=markup_type))\n"
     ]
    }
   ],
   "source": [
    "def parse_troonrede(f):\n",
    "    '''Read a troonrede file, extract all text and output a list of lists, \n",
    "    each element is a paragraph containing a list of sentences,\n",
    "    each sentence is parsed.'''\n",
    "    soup= BeautifulSoup(open(f).read())\n",
    "    ourdiv=soup.find('div', id=\"post-content\") \n",
    "    ourpars= [parsetree(p.text, lemmata=True, Relations=True) for p in ourdiv.findAll('p')[1:-1]]\n",
    "    return ourpars\n",
    "\n",
    "# this applies step 2 to all troonredes \n",
    "def parse_corpus(folder):\n",
    "    alltroonredes= glob.glob(os.path.join(folder, '*.html'))\n",
    "    troonredes={}\n",
    "    for troonrede in alltroonredes:\n",
    "        key= troonrede.split('\\\\')[1].replace('.html','')\n",
    "        value= parse_troonrede(troonrede)\n",
    "        troonredes[key]=value\n",
    "    return troonredes\n",
    "\n",
    "parsedtroonredes= parse_corpus('files')\n",
    "print \"Troonrede parsing\""
   ]
  },
  {
   "cell_type": "code",
   "execution_count": 16,
   "metadata": {
    "collapsed": false
   },
   "outputs": [
    {
     "ename": "AttributeError",
     "evalue": "'module' object has no attribute 'help'",
     "output_type": "error",
     "traceback": [
      "\u001b[1;31m---------------------------------------------------------------------------\u001b[0m",
      "\u001b[1;31mAttributeError\u001b[0m                            Traceback (most recent call last)",
      "\u001b[1;32m<ipython-input-16-71aac8fbb31b>\u001b[0m in \u001b[0;36m<module>\u001b[1;34m()\u001b[0m\n\u001b[1;32m----> 1\u001b[1;33m \u001b[0mtreetagger\u001b[0m\u001b[1;33m.\u001b[0m\u001b[0mhelp\u001b[0m\u001b[1;33m(\u001b[0m\u001b[1;33m)\u001b[0m\u001b[1;33m\u001b[0m\u001b[0m\n\u001b[0m",
      "\u001b[1;31mAttributeError\u001b[0m: 'module' object has no attribute 'help'"
     ]
    }
   ],
   "source": [
    "treetagger.help()"
   ]
  },
  {
   "cell_type": "code",
   "execution_count": 3,
   "metadata": {
    "collapsed": true
   },
   "outputs": [],
   "source": [
    "'''Gehele corpus met lemmatiseren'''\n",
    "def processText(parsedcorpus):\n",
    "    wordsPerPara= [list([ w.lemma for s in p for w in s.nouns])  for p in parsedcorpus  ]\n",
    "    return wordsPerPara\n",
    "\n",
    "tekst= {k:processText(parsedtroonredes[k]) for k in parsedtroonredes}"
   ]
  },
  {
   "cell_type": "code",
   "execution_count": 4,
   "metadata": {
    "collapsed": true
   },
   "outputs": [],
   "source": [
    "'''Alle gelemmatiseerde woorden en hoevaak ze voorkomen in het corpus'''\n",
    "lemmaDict = {}\n",
    "for troonrede in sorted(tekst):\n",
    "    for paragraph in tekst[troonrede]:\n",
    "        for word in paragraph:\n",
    "            try:\n",
    "                if str(word) in lemmaDict:\n",
    "                    lemmaDict[str(word)] += 1\n",
    "                else:\n",
    "                    lemmaDict[str(word)] = 1\n",
    "            except:\n",
    "                pass"
   ]
  },
  {
   "cell_type": "code",
   "execution_count": 5,
   "metadata": {
    "collapsed": true
   },
   "outputs": [],
   "source": [
    "'''Gebruikt de dictionary van gelemmatiseerde woorden om een dictionary te maken van alle mogelijke combinaties van 2 woorden'''\n",
    "wordlist = []\n",
    "fullCombiDict = {}\n",
    "for word in lemmaDict:\n",
    "    word = re.sub(r'[^\\w]', '', word)\n",
    "    if len(word) > 2:\n",
    "        wordlist.append(word)\n",
    "for combi in itertools.combinations(sorted(wordlist),2):\n",
    "    fullCombiDict[combi] = 0"
   ]
  },
  {
   "cell_type": "code",
   "execution_count": 6,
   "metadata": {
    "collapsed": false
   },
   "outputs": [
    {
     "name": "stdout",
     "output_type": "stream",
     "text": [
      "- dataPerYear bevat per jaar: aantal paragrafen, aantal zinnen, aantal woorden en aantal lettergrepen in de gehele troonrede\n",
      "- redes bevat per jaar de gehele troonrede als tekst\n"
     ]
    }
   ],
   "source": [
    "'''Per jaar de hoeveelheid paragrafen, zinnen en woorden'''\n",
    "redes = {}\n",
    "dataPerYear = {}\n",
    "for troonrede in parsedtroonredes:\n",
    "    year = troonrede\n",
    "    paragraphs = 0\n",
    "    sentences = 0\n",
    "    words = 0\n",
    "    syllables = 0\n",
    "    rede = []\n",
    "    for paragraph in parsedtroonredes[troonrede]:\n",
    "        paragraphs += 1\n",
    "        sentences += len(paragraph)\n",
    "        for sentence in paragraph:\n",
    "            words += len(sentence)\n",
    "            for word in sentence:\n",
    "                if word.string == \".\" or word.string == \",\":\n",
    "                    rede.append(word.string)\n",
    "                else:\n",
    "                    rede.append(word.string)\n",
    "                    try:\n",
    "                        syllables += syllablesCount(word.string)\n",
    "                    except:\n",
    "                        pass\n",
    "    redes[year] = rede            \n",
    "    info = [paragraphs,sentences,words,syllables]\n",
    "    dataPerYear[year] = info\n",
    "print \"- dataPerYear bevat per jaar: aantal paragrafen, aantal zinnen, aantal woorden en aantal lettergrepen in de gehele troonrede\"\n",
    "print \"- redes bevat per jaar de gehele troonrede als tekst\""
   ]
  },
  {
   "cell_type": "code",
   "execution_count": 7,
   "metadata": {
    "collapsed": false
   },
   "outputs": [
    {
     "name": "stdout",
     "output_type": "stream",
     "text": [
      "2491\n"
     ]
    }
   ],
   "source": [
    "paragraphCount = 0\n",
    "for year in dataPerYear:\n",
    "    paragraphCount += dataPerYear[year][0]\n",
    "print paragraphCount"
   ]
  },
  {
   "cell_type": "code",
   "execution_count": 8,
   "metadata": {
    "collapsed": true
   },
   "outputs": [],
   "source": [
    "'''Bouwen van de collocatie dataframe voor alle troonredes'''\n",
    "yearCombiDict = {}\n",
    "for troonrede in tekst:\n",
    "    combiDict = {}\n",
    "    for paragraph in tekst[troonrede]:\n",
    "        words = []\n",
    "        for word in paragraph:\n",
    "            word = re.sub(r'[^\\w]', '', word)\n",
    "            if len(word) > 2:\n",
    "                words.append(word)\n",
    "        for combi in itertools.combinations(sorted(words),2):\n",
    "            if combi in fullCombiDict:\n",
    "                fullCombiDict[combi] += 1\n",
    "            else:\n",
    "                pass\n",
    "            if combi in combiDict:\n",
    "                combiDict[combi] += 1\n",
    "            else:\n",
    "                combiDict[combi] = 1\n",
    "    yearCombiDict[troonrede] = combiDict"
   ]
  },
  {
   "cell_type": "code",
   "execution_count": 19,
   "metadata": {
    "collapsed": false
   },
   "outputs": [
    {
     "name": "stdout",
     "output_type": "stream",
     "text": [
      "Wall time: 2.31 s\n"
     ]
    }
   ],
   "source": [
    "%%time\n",
    "wordParcount = {}\n",
    "combiParcount = {}\n",
    "\n",
    "for troonrede in sorted(tekst):\n",
    "    for paragraph in tekst[troonrede]:\n",
    "        for word1 in sorted(paragraph):\n",
    "            if len(word1.encode('utf-8')) > 1:\n",
    "                if word1.encode('utf-8') in wordParcount:\n",
    "                    wordParcount[word1.encode('utf-8')] += 1\n",
    "                else:\n",
    "                    wordParcount[word1.encode('utf-8')] = 1\n",
    "                for word2 in sorted(paragraph):\n",
    "                    if len(word2.encode('utf-8')) > 1:\n",
    "                        if word1.encode('utf-8') < word2.encode('utf-8'):\n",
    "                            if (word1.encode('utf-8'),word2.encode('utf-8')) in combiParcount:\n",
    "                                combiParcount[word1.encode('utf-8'),word2.encode('utf-8')] += 1\n",
    "                            else:\n",
    "                                combiParcount[word1.encode('utf-8'),word2.encode('utf-8')] = 1\n",
    "                \n",
    "for item in wordParcount:\n",
    "    wordParcount[item] = wordParcount[item]/float(paragraphCount)\n",
    "for item in combiParcount:\n",
    "    combiParcount[item] = combiParcount[item]/float(paragraphCount)"
   ]
  },
  {
   "cell_type": "code",
   "execution_count": 29,
   "metadata": {
    "collapsed": false
   },
   "outputs": [
    {
     "name": "stdout",
     "output_type": "stream",
     "text": [
      "('jaar', 'regering') 0.115214773183\n",
      "('land', 'regering') 0.107185869129\n",
      "('mens', 'regering') 0.0730630268968\n",
      "('jaar', 'land') 0.0662384584504\n",
      "('ontwikkeling', 'regering') 0.0658370132477\n",
      "('edel', 'mogenden') 0.0642312324368\n",
      "('onderwijs', 'regering') 0.0590124448013\n",
      "('beleid', 'regering') 0.0570052187876\n",
      "('maatregel', 'regering') 0.0562023283822\n",
      "('regering', 'zorg') 0.054997992774\n"
     ]
    }
   ],
   "source": [
    "x = 0\n",
    "for key in sorted(combiParcount,key=combiParcount.__getitem__,reverse=True):\n",
    "    if x < 10:\n",
    "        print key,combiParcount[key]\n",
    "        x += 1\n",
    "    else:\n",
    "        break"
   ]
  },
  {
   "cell_type": "code",
   "execution_count": 10,
   "metadata": {
    "collapsed": false
   },
   "outputs": [],
   "source": [
    "'''Functie om P(w) te berekenen'''\n",
    "def findW(word):\n",
    "    return float(wordParcount[word])\n",
    "\n",
    "'''Functie om P(w,c) te berekenen'''\n",
    "def findWC(W,C):\n",
    "    try:\n",
    "        return float(combiParcount[W,C])\n",
    "    except:\n",
    "        return 0.0\n",
    "\n",
    "'''Functie om I(w,c) te berekenen'''\n",
    "def findI(W1,W2):\n",
    "    total = 0.0\n",
    "    for word in wordParcount:\n",
    "        if word != W1 and word != W2:\n",
    "            part1 = findWC(W1,word)\n",
    "            part2 = findW(W1)\n",
    "            part3 = findW(word)\n",
    "            if part1 != 0 and (part2*part3) != 0: \n",
    "                check = math.log(part1/(part2*part3))\n",
    "                if check > 0:\n",
    "                    total += check\n",
    "    return total\n",
    "                \n",
    "'''Functie om de score S(w1,w2) te bepalen'''\n",
    "def score(W1,W2):\n",
    "    score = 0.0\n",
    "    part1 = findI(W1,W2)\n",
    "    if part1 == 0:\n",
    "        return score\n",
    "    part2 = findI(W2,W1)\n",
    "    if part2 == 0:\n",
    "        return score\n",
    "    score = min(part1,part2)/part1\n",
    "    return score\n",
    "\n",
    "# alvast code maken voor figuur 4 en kijken hoe die figuur gemaakt kan worden via pandas"
   ]
  },
  {
   "cell_type": "code",
   "execution_count": 31,
   "metadata": {
    "collapsed": true
   },
   "outputs": [],
   "source": [
    "'''Berekenen van de proximity score over alle collocaties'''\n",
    "def networkBuilder ():\n",
    "    output = {}\n",
    "    for combi in combiParcount:\n",
    "        if combi[0] != combi[1]:\n",
    "            weight = score(combi[0],combi[1])\n",
    "            if weight > 0:\n",
    "                output[combi] = weight\n",
    "    return output"
   ]
  },
  {
   "cell_type": "code",
   "execution_count": 32,
   "metadata": {
    "collapsed": true
   },
   "outputs": [],
   "source": [
    "'''Netwerk bouwen over enkel de 1000 grootste collocaties'''\n",
    "def smallerBuilder ():\n",
    "    output = {}\n",
    "    x = 0\n",
    "    for combi in sorted(combiParcount,key=combiParcount.__getitem__,reverse=True):\n",
    "        if combi[0] != combi[1]:\n",
    "            if x < 1000:\n",
    "                weight = score(combi[0],combi[1])\n",
    "                if weight > 0:\n",
    "                    output[combi] = weight\n",
    "                    x += 1\n",
    "            else:\n",
    "                return output\n",
    "    return output"
   ]
  },
  {
   "cell_type": "code",
   "execution_count": 12,
   "metadata": {
    "collapsed": false
   },
   "outputs": [
    {
     "name": "stdout",
     "output_type": "stream",
     "text": [
      "Wall time: 16 ms\n"
     ]
    },
    {
     "data": {
      "text/plain": [
       "133.09772560573873"
      ]
     },
     "execution_count": 12,
     "metadata": {},
     "output_type": "execute_result"
    }
   ],
   "source": [
    "%%time\n",
    "findI(\"wet\",\"kabinet\")"
   ]
  },
  {
   "cell_type": "code",
   "execution_count": 33,
   "metadata": {
    "collapsed": false
   },
   "outputs": [
    {
     "name": "stdout",
     "output_type": "stream",
     "text": [
      "Wall time: 20.6 s\n"
     ]
    }
   ],
   "source": [
    "%%time\n",
    "netwerkDict = smallerBuilder()"
   ]
  },
  {
   "cell_type": "code",
   "execution_count": 34,
   "metadata": {
    "collapsed": false
   },
   "outputs": [
    {
     "name": "stdout",
     "output_type": "stream",
     "text": [
      "{('lidstaat', 'regering'): 1.0, ('aandacht', 'samenwerking'): 0.2559443592949348, ('aantal', 'onderwijs'): 0.4423415872603923, ('aard', 'den'): 1.0, ('maatregel', 'probleem'): 0.5069430813136473, ('jaar', 'uitgaf'): 0.17653393174310253, ('den', 'een'): 0.4610123410911013, ('den', 'zeeg'): 0.01002825738405024, ('land', 'sector'): 0.24861747727071906, ('kennis', 'onderwijs'): 1.0, ('regering', 'termijn'): 0.3079093852828393, ('handel', 'landbouw'): 0.7838006412020202, ('partner', 'regering'): 1.0, ('betrekking', 'nederland'): 0.9395022769461184, ('criminaliteit', 'misdaad'): 0.5738883416869945, ('overheid', 'werkgelegenheid'): 0.10749823100757448, ('regering', 'volk'): 0.2014062617460619, ('jaar', 'sector'): 0.20088285994735047, ('betrekking', 'jaar'): 1.0, ('scholing', 'werk'): 0.525348134322875, ('behoud', 'jaar'): 1.0, ('economie', 'herstel'): 0.9576015893478546, ('belang', 'samenwerking'): 0.23728800002682823, ('voorziening', 'zorg'): 0.41463823094766783, ('bijdrage', 'regering'): 0.9656182566013021, ('middeel', 'rijks'): 0.3614198590872101, ('verbetering', 'wet'): 0.39396139210059555, ('leerling', 'onderwijs'): 1.0, ('maatregel', 'verhoging'): 0.14179080444060138, ('bedrijf', 'burger'): 0.9028606476822972, ('beleid', 'groei'): 0.7060506860448588, ('den', 'gewest'): 0.3153118786731335, ('name', 'onderwijs'): 1.0, ('handel', 'nijverheid'): 0.44300955785413904, ('herziening', 'regeling'): 0.7717031799564561, ('armoede', 'land'): 1.0, ('regering', 'scholing'): 0.26639857556785546, ('economie', 'ontwikkeling'): 0.8986747327854447, ('mens', 'wereld'): 0.06700786529313389, ('onderwijs', 'vernieuwing'): 0.24361113819584823, ('den', 'maatregel'): 0.5702253434475921, ('economie', 'groei'): 1.0, ('maatregel', 'onderwijs'): 0.6639097708669253, ('ontwikkeling', 'samenwerking'): 0.5438748917031783, ('uwe', 'vaderland'): 0.5078120769940828, ('herstel', 'regering'): 1.0, ('mens', 'school'): 0.27179286149924664, ('maatregel', 'ontwikkeling'): 0.8166905820549767, ('samenwerking', 'veiligheid'): 0.5998352992575225, ('gebied', 'onderwijs'): 0.6290272755210704, ('den', '\\xe2\\x80\\x94'): 0.00054798680235067, ('jaar', 'kabinet'): 0.41971882657803844, ('regering', 'voorbereiding'): 0.13285508961750678, ('burger', 'kwaliteit'): 0.7645317719500835, ('dienst', 'jaar'): 1.0, ('regering', 'resultaat'): 0.4562575047643538, ('volk', 'zoo'): 0.08625764331030686, ('jaar', 'premie'): 0.18944684712296195, ('beroep', 'regering'): 1.0, ('mens', 'samenleving'): 0.5047894926689206, ('regering', 'stijging'): 0.2774550321375741, ('jaar', '\\xe2\\x80\\x98'): 0.0010335466291710913, ('toekomst', 'werknemer'): 0.24895183998937728, ('jaar', 'periode'): 0.1833533966714442, ('regering', 'samenhang'): 0.27556378800668174, ('middeel', 'wet'): 0.1419195224838149, ('ontwikkeling', 'regering'): 1.0, ('gemeenschap', 'regering'): 1.0, ('gebied', 'regering'): 0.8490559468574513, ('jaar', 'verenigde'): 0.10065151887063768, ('land', 'veiligheid'): 0.21680540774006044, ('kans', 'werkloosheid'): 0.09268586224856488, ('gemeent', 'jaar'): 1.0, ('doelstelling', 'regering'): 1.0, ('regering', 'werkgelegenheid'): 0.08279913514972871, ('economie', 'werkloosheid'): 0.06997543573133817, ('aandacht', 'den'): 1.0, ('herziening', 'regering'): 1.0, ('bezitting', 'den'): 1.0, ('betrekking', 'den'): 1.0, ('onderwijs', 'wetenschappelijk'): 0.034583076995852384, ('politie', 'regering'): 1.0, ('jaar', 'overheid'): 0.4559321399757363, ('jaar', 'partner'): 0.21359196016411866, ('land', 'markt'): 0.3930207458093151, ('bedrijf', 'economie'): 0.6291147432086054, ('regering', 'vermindering'): 0.19195892800886766, ('inspanning', 'regering'): 1.0, ('antillen', 'regering'): 1.0, ('integratie', 'regering'): 1.0, ('land', 'werkgelegenheid'): 0.06057305600394606, ('dag', 'jaar'): 1.0, ('samenwerking', 'unie'): 0.32937053522883225, ('regering', 'taak'): 0.37801011351064406, ('den', 'verband'): 0.13017753301644197, ('den', 'vriendschappelijk'): 0.005117226572333822, ('economie', 'jaar'): 1.0, ('kunst', 'wetenschap'): 0.05792363234198233, ('kabinet', 'regering'): 1.0, ('leven', 'mens'): 1.0, ('den', 'tussch'): 0.1264373885969378, ('werk', 'werkloosheid'): 0.5192459490771868, ('handel', 'toestand'): 0.27562626889207303, ('mens', 'overheid'): 0.6680408979497281, ('regering', 'verbetering'): 0.31677120740546266, ('jaar', 'maatregel'): 0.6600022487461397, ('begrooting', 'uitgaf'): 0.4359266123450416, ('regering', 'vorm'): 0.14972894450729426, ('gemeenschap', 'samenwerking'): 0.6656675018783946, ('regering', 'zaak'): 0.03065879493792155, ('jaar', 'prijs'): 0.24420897216899365, ('jaar', 'verband'): 0.1506411542899463, ('den', 'welvaart'): 0.046584794427626613, ('den', 'orde'): 0.2530496719838455, ('veiligheid', 'wereld'): 0.26260403217475853, ('oplossing', 'regering'): 1.0, ('ontwikkeling', 'terrein'): 0.41454685255187035, ('den', 'onderwerp'): 0.24633638513230743, ('den', 'prijs'): 0.21105878664624717, ('zitting', 'zoo'): 1.0, ('mogenden', 'vergadering'): 0.41830083027338105, ('landbouw', 'ontwikkeling'): 1.0, ('land', 'milieu'): 0.3951253566238923, ('kwaliteit', 'samenleving'): 0.5243496192162267, ('nederland', 'tijd'): 0.3690152498574806, ('land', 'verantwoordelijkheid'): 0.20048361159059336, ('jaar', 'terrein'): 0.22311784783887523, ('regering', 'uitvoering'): 0.24379730892033682, ('aantal', 'mens'): 0.6898906132096502, ('kans', 'overheid'): 1.0, ('regering', 'tijd'): 0.3632010226420388, ('werkgever', 'werknemer'): 0.8316789524651849, ('land', 'toekomst'): 0.24949538146167638, ('edel', 'grondwet'): 0.7054501903600984, ('aandacht', 'land'): 0.7063934388232701, ('aandacht', 'veiligheid'): 0.15312269986281155, ('verbetering', 'zorg'): 0.19730018424200202, ('maatregel', 'middeel'): 0.7873415967363663, ('mens', 'uitkering'): 0.17621663845873975, ('bestrijding', 'werkloosheid'): 0.05937462366332229, ('gevolg', 'jaar'): 1.0, ('den', 'deszelf'): 0.32068939966532156, ('land', '\\xe2\\x80\\x99'): 0.0013564820266838854, ('regering', 'wijze'): 0.08139517620834072, ('leerling', 'regering'): 1.0, ('oog', 'overheid'): 1.0, ('belang', 'regering'): 0.4790756292296859, ('jaar', 'woning'): 0.04774804516705146, ('den', 'voorziening'): 0.07754582607322409, ('den', 'dien'): 0.39534731391501227, ('overheid', 'tekort'): 0.2899516345138183, ('samenleving', 'taak'): 0.6500998445491292, ('gebied', 'ontwikkeling'): 0.7739887896487103, ('behoud', 'regering'): 0.8343927880241098, ('den', 'regeling'): 0.2619449454341326, ('mens', 'zekerheid'): 0.03536642045786021, ('den', 'kracht'): 0.4277882826851153, ('arbeid', 'regering'): 0.8812230919011537, ('land', 'resultaat'): 0.3336477821541633, ('economie', 'zorg'): 0.06153963121854226, ('jaar', 'werkgelegenheid'): 0.04894299463019275, ('investering', 'regering'): 1.0, ('hulp', 'land'): 1.0, ('land', 'rol'): 0.23991264640349094, ('overheid', 'verantwoordelijkheid'): 0.3560256443299045, ('nederland', 'regering'): 1.0, ('aandacht', 'zorg'): 0.032245947418850285, ('regering', 'tekort'): 0.22318199346930642, ('begrooting', 'jaar'): 1.0, ('jaar', 'plaats'): 0.4146383515017577, ('regering', 'school'): 0.31366483359648567, ('aandacht', 'mens'): 0.5970939706312347, ('regering', 'veiligheid'): 0.296409855147533, ('land', 'nota'): 0.37941422972941935, ('grondwet', 'mogenden'): 0.9294011391404514, ('ontwerp', 'wet'): 0.21948122385654553, ('regering', 'sociaal-economische'): 0.17446709385378362, ('ontwikkeling', 'wereld'): 0.08494517680100962, ('den', 'verhooging'): 0.04915750094452883, ('economie', 'mens'): 1.0, ('regering', 'stelsel'): 0.33757914345784806, ('overheid', 'werk'): 0.17963954700728416, ('groei', 'zorg'): 0.053478473924771563, ('jeugd', 'onderwijs'): 1.0, ('jeugd', 'regering'): 1.0, ('land', 'traditie'): 0.1061089527296039, ('den', 'staten'): 0.15162763581691255, ('den', 'volharding'): 0.03747457017210321, ('jaar', 'zoo'): 0.010222368924906468, ('jaar', 'samenleving'): 0.34442987166840394, ('den', 'waarborg'): 0.0232322073639977, ('ontwikkeling', 'verbetering'): 0.3477524406392839, ('den', 'zitting'): 0.007141878471177884, ('beleid', 'terrein'): 0.22819727887473665, ('europa', 'samenwerking'): 0.5055211937656378, ('mogendheden', 'vriendschappelijk'): 0.026358350234707315, ('jaar', 'mogenden'): 0.37876380902205603, ('kans', 'regering'): 1.0, ('land', 'opzicht'): 0.20805426186998527, ('onderwijs', 'vorming'): 0.09607634800038059, ('jaar', 'rijk'): 0.23058149575221673, ('plan', 'regering'): 1.0, ('den', 'eerlang'): 0.27213251872144417, ('land', 'middeel'): 0.6425985899843139, ('aandacht', 'wet'): 0.06436988396371275, ('leed', 'staten-generaal'): 1.0, ('den', 'huis'): 0.3157127038459315, ('begroting', 'jaar'): 1.0, ('unie', 'veiligheid'): 1.0, ('beleid', 'mens'): 0.6983556689880621, ('den', 'lk'): 0.29323160102694257, ('groei', 'land'): 1.0, ('ontwikkelingsland', 'probleem'): 1.0, ('jaar', 'stand'): 0.19792622536382803, ('regering', 'vermogen'): 0.13498407397055895, ('jaar', 'toestand'): 0.1571452704490838, ('probleem', 'verantwoordelijkheid'): 0.4858621529199283, ('recht', 'regering'): 1.0, ('jaar', 'veiligheid'): 0.1751802429919626, ('wetboek', 'wetgeving'): 1.0, ('edel', 'wetboek'): 0.06258846893820119, ('overheid', 'regering'): 1.0, ('regering', 'uitkering'): 0.2033989081842888, ('aanvang', 'den'): 1.0, ('aansluiting', 'regering'): 1.0, ('kind', 'regering'): 1.0, ('belang', 'land'): 0.6548859695081682, ('bedrijfsleven', 'overheid'): 0.6542836201361284, ('jaar', 'mogelijkheid'): 0.5457819234924722, ('kans', 'onderwijs'): 0.9673583717197396, ('jaar', 'koopkracht'): 0.2707444081393686, ('belang', 'wereld'): 0.037040495015147355, ('overheid', 'probleem'): 0.7347904046808312, ('regering', 'verband'): 0.25491084582219536, ('belang', 'maatregel'): 0.5346294697180758, ('stijging', 'zorg'): 0.22671542820215132, ('regering', 'rijksbegroting'): 0.35866314903243657, ('naties', 'verenigde'): 0.4468079022179756, ('bedrijfsleven', 'jaar'): 1.0, ('maatregel', '\\xe2\\x80\\x98'): 0.0015668292711362433, ('gemeent', 'mens'): 1.0, ('den', 'vrede'): 0.05914324288064637, ('handel', 'regering'): 1.0, ('mens', 'werknemer'): 0.07315788027400909, ('den', 'instelling'): 0.4276558444155665, ('unie', 'wereld'): 0.4818551253259669, ('maatregel', 'veiligheid'): 0.2655543941273505, ('kabinet', 'werkgelegenheid'): 0.1168802220962379, ('den', 'verzekering'): 0.08206179240052094, ('den', 'voortduring'): 0.03779057157084933, ('uwe', 'vergadering'): 1.0, ('den', 'hoop'): 0.3721726958107511, ('raad', 'regering'): 1.0, ('edel', 'zitting'): 0.01426607479067587, ('name', 'regering'): 1.0, ('land', '\\xe2\\x80\\x94'): 0.0007849026911004603, ('deel', 'den'): 1.0, ('regeling', 'wetsontwerp'): 0.1043917672967111, ('land', 'orde'): 0.3624401119422772, ('jaar', 'landbouw'): 0.44649415345166316, ('mate', 'ontwikkeling'): 1.0, ('vrijheid', 'wereld'): 0.6618882128262294, ('advies', 'regering'): 1.0, ('ontwikkeling', 'zorg'): 0.06851365704799653, ('beleid', 'ontwikkeling'): 0.550928035878451, ('belang', 'volk'): 0.09650638165064439, ('innovatie', 'regering'): 1.0, ('naties', 'regering'): 1.0, ('mens', 'middeel'): 0.7609522895380496, ('den', 'gevolge'): 0.33260047898776407, ('aandacht', 'kwaliteit'): 0.5752234193884075, ('middeel', '\\xe2\\x80\\x98'): 0.0019928548702055023, ('probleem', 'samenleving'): 1.0, ('betrekking', 'regering'): 0.9535929417225096, ('mens', 'tijd'): 0.3145857616674334, ('uitbreiding', 'unie'): 0.6923227096892702, ('doel', 'jaar'): 1.0, ('jaar', 'unie'): 0.09608796413984234, ('mens', 'nederland'): 0.8532624154983243, ('land', 'respect'): 0.20043265906134028, ('nederlander', 'regering'): 1.0, ('inkomen', 'jaar'): 1.0, ('last', 'regering'): 1.0, ('regering', 'vorming'): 0.07097646969528582, ('beleid', 'land'): 0.8263348091310493, ('land', 'oog'): 0.5361120691560233, ('arbeid', 'den'): 1.0, ('bedrijf', 'groei'): 0.7236867247504188, ('den', 'dienst'): 0.47532321370619457, ('regering', 'staten-generaal'): 0.2379197702856447, ('belang', 'unie'): 0.07786190632762899, ('oplossing', 'probleem'): 1.0, ('belang', 'welvaart'): 0.04368273507167313, ('perspectief', 'regering'): 1.0, ('jaar', 'taak'): 0.22342053229213588, ('jaar', 'koninkrijk'): 0.32932118019621026, ('bedrijf', 'werkgelegenheid'): 0.05128223658725191, ('jaar', 'tekort'): 0.1319566403246691, ('dienstverlening', 'overheid'): 1.0, ('den', 'tak'): 0.10499659125006748, ('land', 'volk'): 0.14733535031370032, ('bloei', 'den'): 1.0, ('land', 'mens'): 0.8457336658747936, ('samenleving', 'wereld'): 0.13305170387239393, ('plaats', 'regering'): 1.0, ('raad', 'sociaal-economische'): 0.44543803723274356, ('den', 'rijks'): 0.16190487024710243, ('kamer', 'tweede'): 0.3960142034303201, ('probleem', 'regering'): 1.0, ('den', 'volk'): 0.10292071575821693, ('herstel', 'overheid'): 0.7954399015636537, ('mogenden', 'wetboek'): 0.09598626988925223, ('economie', 'werkgelegenheid'): 0.08165796205436422, ('inspanning', 'jaar'): 1.0, ('den', 'opbrengst'): 0.19745594701766833, ('den', 'nijverheid'): 0.21800020398291695, ('organisatie', 'regering'): 1.0, ('mogenden', 'zitting'): 0.021878618228809356, ('belang', 'overheid'): 0.3693440527978082, ('regering', 'verandering'): 0.15386629829893986, ('den', 'verwachting'): 0.08518027718309647, ('regering', 'verantwoordelijkheid'): 0.27410311907707297, ('maatregel', '\\xe2\\x80\\x94'): 0.0009617379111374151, ('moeilijkheid', 'regering'): 1.0, ('jaar', 'nederlander'): 0.2395546032397084, ('land', 'tijd'): 0.26577330652473186, ('ontwikkeling', 'overheid'): 0.8462655951412967, ('commissie', 'den'): 1.0, ('bedrijf', 'mens'): 0.7158126469777205, ('gemeenschap', 'jaar'): 1.0, ('den', 'medewerking'): 0.2606414871865266, ('belasting', 'regering'): 0.9198007165101726, ('beleid', 'economie'): 0.6137663909693908, ('land', 'water'): 0.08035528038148441, ('jaar', 'loop'): 0.33655678098080055, ('onderwijs', 'verantwoordelijkheid'): 0.37016638490549203, ('mogelijkheid', 'regering'): 1.0, ('samenleving', 'zorg'): 0.10727964839093655, ('regering', 'verlaging'): 0.15395722229534534, ('aandacht', 'gebied'): 0.6091172781502772, ('overheid', 'samenleving'): 0.7569980211199194, ('regering', 'voorstel'): 0.11744920951313567, ('regering', 'werknemer'): 0.08449208873249049, ('nederland', 'samenleving'): 0.5916896826516523, ('land', 'nederland'): 0.721050249323967, ('den', 'plaats'): 0.3582612708313985, ('jaar', 'leven'): 0.5143961168622132, ('positie', 'regering'): 1.0, ('aantal', 'ontwikkeling'): 0.5439850923421217, ('werk', 'werknemer'): 0.6213568388622502, ('land', 'overheid'): 0.5640594454320117, ('europa', 'nederland'): 1.0, ('beleid', 'nederland'): 0.5951428405484367, ('jaar', 'tijd'): 0.21472170229505688, ('overheid', 'ruimte'): 0.5029090775074135, ('kwaliteit', 'onderwijs'): 0.6667118892863652, ('burger', 'jaar'): 1.0, ('economie', 'regering'): 0.9862307359761839, ('den', 'ijver'): 0.23668629340512123, ('regering', 'vrede'): 0.11575663918334539, ('regering', 'uitbreiding'): 0.23701448532409705, ('den', 'zaak'): 0.015663466004626283, ('kans', 'werk'): 0.18079213265108468, ('jaar', '\\xe2\\x80\\x94'): 0.0006344207633738584, ('gebruik', 'regering'): 1.0, ('burger', 'mens'): 0.7934883365116686, ('regering', 'sector'): 0.3399593469968601, ('groei', 'mens'): 0.9902179480924075, ('nederland', 'wereld'): 0.0786223191762027, ('jaar', 'verantwoordelijkheid'): 0.1619716764097899, ('regering', 'verenigde'): 0.1703186381852182, ('einde', 'jaar'): 1.0, ('inkomstenbelasting', 'regering'): 1.0, ('den', 'vergadering'): 0.13657418982351008, ('ontwerp', 'regering'): 1.0, ('bestrijding', 'regering'): 0.836157234849183, ('jaar', 'kwaliteit'): 0.6580600522230364, ('jaar', 'mens'): 0.6832624964629664, ('koninkrijk', 'regering'): 1.0, ('aandacht', 'maatregel'): 0.57675525778925, ('beleid', 'verbetering'): 0.19142360401150563, ('onderwijs', 'verbetering'): 0.4280168537405527, ('mens', 'veiligheid'): 0.25665372813571397, ('land', 'verenigde'): 0.12465011377889915, ('premie', 'regering'): 1.0, ('europa', 'unie'): 0.1659839563359431, ('tijd', 'zorg'): 0.17217370157461365, ('bevolking', 'ontwikkeling'): 0.7383341277403147, ('verantwoordelijkheid', 'zorg'): 0.22844682507345365, ('den', 'gevoelen'): 0.2938274804556137, ('wet', 'zoo'): 0.13973476398891543, ('gemeenschap', 'ontwikkeling'): 1.0, ('den', 'grond'): 0.3660193407067509, ('overheid', 'werkloosheid'): 0.09213920534698257, ('gebied', 'jaar'): 1.0, ('den', 'toestand'): 0.13587355421394853, ('middeel', 'regering'): 1.0, ('den', 'wet'): 0.06364285208358109, ('land', 'vorm'): 0.10948705515262841, ('land', 'taak'): 0.27662809196311017, ('bezwaar', 'den'): 1.0, ('nederlandsche', 'volk'): 0.4644369653967443, ('mens', 'mogelijkheid'): 0.7999402908196058, ('gebied', 'nederland'): 0.8361394886702916, ('baan', 'mens'): 1.0, ('ontwikkeling', 'volk'): 0.2211688622578978, ('overheid', '\\xe2\\x80\\x94'): 0.0013933919035533902, ('ontwikkeling', 'toekomst'): 0.37436895947297893, ('jaar', 'vorm'): 0.08847249933890397, ('toestand', '\\xe2\\x80\\x98'): 0.006606905067305608, ('den', 'handel'): 0.49333097335682596, ('toekomst', 'zorg'): 0.18357966136210807, ('samenwerking', 'verenigde'): 0.34495034895036436, ('den', 'handhaving'): 0.28023342512082194, ('doel', 'regering'): 0.937671453217779, ('kader', 'land'): 1.0, ('maatregel', 'nederland'): 0.8824441113578886, ('afspraak', 'regering'): 0.957694965145779, ('beginsel', 'den'): 1.0, ('edel', 'vergadering'): 0.2727956404417823, ('euro', 'regering'): 1.0, ('deel', 'mens'): 0.7497828146149428, ('overheid', 'terrein'): 0.4903304618123954, ('burger', 'mogelijkheid'): 0.6342427505769913, ('regering', 'vraagstuk'): 0.12836956081572812, ('den', 'onderdaan'): 0.18944212849787337, ('handel', 'jaar'): 1.0, ('mens', 'verantwoordelijkheid'): 0.2373596177852921, ('jaar', 'volk'): 0.11905677295021845, ('herstel', 'jaar'): 1.0, ('ontwikkeling', 'tijd'): 0.3988489546036245, ('activiteit', 'regering'): 1.0, ('jaar', 'vrede'): 0.06843379992773499, ('jaar', 'vermindering'): 0.1135189251025768, ('criminaliteit', 'samenleving'): 0.890023691028599, ('beleid', 'werkgelegenheid'): 0.050033921305329174, ('regering', 'unie'): 0.1625931852786449, ('regering', '\\xe2\\x80\\x99'): 0.001854339473682157, ('den', 'vaderland'): 0.059853946597131724, ('jaar', 'omstandigheid'): 0.3218575321458347, ('koopkracht', 'regering'): 1.0, ('bezitting', 'rust'): 0.35067646671784974, ('burger', 'organisatie'): 0.3796308189272483, ('regering', 'woningbouw'): 0.055791209236628586, ('maatregel', 'samenleving'): 0.5219841577238716, ('jaar', 'verandering'): 0.09097008564372627, ('burger', 'europa'): 0.6743523253924892, ('den', 'landbouw'): 0.3859747074939748, ('land', 'versterking'): 0.15860500123371085, ('criminaliteit', 'jaar'): 1.0, ('onderwijs', 'sector'): 0.4594159061883919, ('begroting', 'regering'): 1.0, ('onderwerp', 'uwe'): 0.4849399972132892, ('rijks', 'toestand'): 0.8429231434658913, ('land', 'zorg'): 0.04566047443420745, ('samenwerking', 'wereld'): 0.15649093086462218, ('produktie', 'regering'): 1.0, ('kans', 'mens'): 1.0, ('bedrijf', 'regering'): 0.6194362854771521, ('onderwijs', 'school'): 0.42459830927964815, ('samenleving', 'verantwoordelijkheid'): 0.47148265530216377, ('deel', 'koninkrijk'): 0.3617817173840552, ('initiatief', 'regering'): 1.0, ('veiligheid', 'vrede'): 0.39389871979021335, ('land', 'toestand'): 0.19446362797053054, ('onderwijs', 'versterking'): 0.29295648894660226, ('economie', 'land'): 1.0, ('jaar', 'wetgeving'): 0.04571475889723911, ('regering', 'weg'): 0.0847026970875513, ('economie', 'nederland'): 0.971369489765194, ('mogendheden', 'nederland'): 1.0, ('basis', 'regering'): 0.9455560291893506, ('jaar', 'middeel'): 0.5194609268089009, ('gezin', 'regering'): 1.0, ('jaar', '\\xe2\\x80\\x99'): 0.0010957939809355976, ('land', 'mogelijkheid'): 0.6754138213389482, ('deel', 'ontwikkeling'): 0.5913244201565702, ('bescherming', 'regering'): 0.9223858304054324, ('jaar', 'stijging'): 0.1640209982936368, ('jaar', 'school'): 0.1853614317478874, ('omvang', 'regering'): 1.0, ('beleid', 'maatregel'): 0.6746368533685136, ('edel', 'jaar'): 1.0, ('den', 'rust'): 0.11745721288479077, ('inspanning', '\\xe2\\x80\\x94'): 0.0011447166265375734, ('den', 'loop'): 0.29093045687640273, ('land', 'samenleving'): 0.42631861174146257, ('land', 'structuur'): 0.2026126894474322, ('inkomst', 'jaar'): 1.0, ('burger', 'regering'): 0.6868284780141247, ('vrede', 'wereld'): 0.6808363075729807, ('koninkrijk', 'samenwerking'): 0.8913866150797889, ('wetboek', 'zitting'): 0.23694924537831605, ('den', 'mijnen'): 0.14631596238436959, ('toestand', 'uitgaf'): 1.0, ('ontwikkeling', 'versterking'): 0.2379801952222454, ('ed.mog', 'wet'): 0.16114138159452948, ('nederland', 'taak'): 0.3841164797362957, ('jaar', 'regeling'): 0.30311876669149157, ('aandacht', 'nederland'): 0.5088702493059206, ('regering', 'samenleving'): 0.5829013459395032, ('vergadering', 'zitting'): 0.0526135026447726, ('overleg', 'regering'): 1.0, ('antillen', 'land'): 1.0, ('aandacht', 'jaar'): 0.8740717377081221, ('den', 'gelegenheid'): 0.4818535878137384, ('belang', 'burger'): 0.6979506446556565, ('veiligheid', 'zorg'): 0.21137221853356536, ('ontwikkeling', 'verhouding'): 0.21043250066937966, ('behandeling', 'regering'): 1.0, ('regering', 'wet'): 0.1245940739395622, ('den', 'ontwikkeling'): 0.4655045506786085, ('jaar', 'land'): 0.8083274791945088, ('nederland', 'veiligheid'): 0.30108418612265164, ('jaar', 'organisatie'): 0.32664584575631994, ('belasting', 'den'): 1.0, ('middeel', 'uitgaf'): 0.340373004480443, ('den', 'rijk'): 0.19925281583161597, ('koninkrijk', 'land'): 1.0, ('overheid', '\\xe2\\x80\\x99'): 0.002407584384294476, ('europa', 'wereld'): 0.07891518373250349, ('ondernemer', 'regering'): 1.0, ('hooger', 'onderwijs'): 1.0, ('algemeen', 'handel'): 0.9143334862235458, ('gevolg', 'regering'): 0.8768098188552694, ('onderwijs', 'ruimte'): 0.523164475571656, ('regering', 'verhouding'): 0.1915856543858769, ('jaar', 'opbrengst'): 0.22849115993005178, ('den', 'edel'): 0.5016513842176296, ('aanpak', 'jaar'): 1.0, ('grondwet', 'zitting'): 0.020270224282282475, ('dienstverlening', 'regering'): 1.0, ('den', 'gebied'): 0.6020248456660197, ('den', 'hetwelk'): 0.3366871716134244, ('noodzaak', 'regering'): 1.0, ('regering', 'vrijheid'): 0.11880331279146958, ('den', 'zorg'): 0.03188128359637069, ('invloed', 'toestand'): 0.37942875027728334, ('jaar', 'verwachting'): 0.09857018545058348, ('den', 'invloed'): 0.3588504726692588, ('infrastructuur', 'regering'): 1.0, ('jaar', 'vraagstuk'): 0.07584980316601544, ('onderwijs', 'zorg'): 0.08436488657586794, ('regering', '\\xe2\\x80\\x94'): 0.0010733812311771193, ('den', 'nederlandsche'): 0.22270321157750533, ('edel', 'toestand'): 0.2710412851656532, ('belang', 'gebied'): 0.5646288034130363, ('regering', 'respect'): 0.27396891563732734, ('jaar', 'wijze'): 0.04811998389547493, ('belang', 'onderwijs'): 0.35487643969751687, ('maatregel', 'verantwoordelijkheid'): 0.24551563441387123, ('dag', 'land'): 1.0, ('jaar', 'schuld'): 0.11575208861766112, ('kind', 'zorg'): 0.11447038826095582, ('land', 'terrein'): 0.2762942892239085, ('jaar', 'kind'): 0.3236207971650872, ('medewerking', 'uwe'): 0.4583191954590606, ('kwaliteit', 'zorg'): 0.05616805325651397, ('regering', 'zorg'): 0.06244916726972871, ('jaar', 'uitkering'): 0.12017979912145267, ('betrekking', 'ontwikkeling'): 0.8694348099823781, ('regering', 'wetsvoorstel'): 0.03816953710492539, ('middeel', 'toestand'): 0.30290486582407794, ('aandacht', 'ontwikkeling'): 0.47100706052076613, ('land', 'vrede'): 0.084727770571006, ('den', 'onderhandeling'): 0.23999469710726637, ('land', 'maatregel'): 0.8166615143209346, ('jaar', 'voorziening'): 0.08975644668542611, ('uitgaf', '\\xe2\\x80\\x98'): 0.005885342466491181, ('den', 'nederland'): 0.50309663804888, ('burger', 'rechtsstaat'): 0.21726610208849353, ('nederland', 'vrede'): 0.1176621924596618, ('nederland', 'probleem'): 0.5748309316966017, ('regering', 'welvaart'): 0.09118528854612531, ('belang', 'edel'): 0.4701778106331677, ('burger', 'werkgelegenheid'): 0.05684598428128785, ('den', 'land'): 0.6983037014341845, ('burger', 'verantwoordelijkheid'): 0.18822441111247817, ('jaar', 'verhoging'): 0.09346004537143578, ('groei', 'ontwikkeling'): 0.7811676724372925, ('den', 'overleg'): 0.2924878424453518, ('betrekking', 'mogendheden'): 0.36623683271277896, ('den', 'last'): 0.429839576194308, ('wet', '\\xe2\\x80\\x94'): 0.008657528841284455, ('den', 'staten-generaal'): 0.12155830253080471, ('deel', 'regering'): 0.6490363841777422, ('advies', 'sociaal-economische'): 0.28484829931462025, ('woning', 'woningbouw'): 0.72399393997097, ('aantal', 'jaar'): 1.0, ('grondwet', 'regering'): 1.0, ('den', 'wijziging'): 0.029354252052130513, ('staten', 'verenigde'): 0.5796864831461996, ('belang', 'handel'): 0.4624247545877176, ('mens', 'vorm'): 0.12965457691034724, ('belang', 'wet'): 0.059679514493572165, ('nederland', 'unie'): 0.16527807432183672, ('invoering', 'regering'): 1.0, ('regeling', 'wijziging'): 0.11237284521809976, ('samenwerking', 'versterking'): 0.43864138358041316, ('bedrijfsleven', 'ontwikkeling'): 0.7729053441541701, ('afspraak', 'jaar'): 1.0, ('regel', 'regering'): 1.0, ('milieu', 'regering'): 1.0, ('bouw', 'woning'): 0.14968378916587224, ('mogenden', 'toestand'): 0.415334803216675, ('kwaliteit', 'regering'): 0.8996539592421569, ('ed.mog', 'jaar'): 1.0, ('jaar', 'uitvoering'): 0.1440981434414268, ('europa', 'land'): 1.0, ('bepaling', 'den'): 1.0, ('instelling', 'jaar'): 1.0, ('jaar', 'uwe'): 0.1376244679278126, ('ontwikkeling', 'werkgelegenheid'): 0.0909247290495589, ('inspanning', 'samenleving'): 0.6215468928042898, ('maatregel', 'mens'): 1.0, ('den', 'gebeurtenis'): 0.34121209668961305, ('algemeen', 'belang'): 1.0, ('land', 'oplossing'): 0.3449482842619789, ('belang', 'zorg'): 0.02989525440079076, ('bijdrage', 'land'): 1.0, ('groei', 'regering'): 0.8570674049741784, ('hervorming', 'regering'): 1.0, ('jaar', 'regering'): 0.5913650161593442, ('aard', 'mogendheden'): 0.4982712185833739, ('betrekking', 'land'): 1.0, ('den', 'ed.mog'): 0.3959667508362439, ('gods', 'zeeg'): 0.06935925845022402, ('maatregel', 'zorg'): 0.05593784082029792, ('gemeent', 'regering'): 0.9412164436245729, ('burger', 'maatregel'): 0.7663963611461856, ('land', 'plaats'): 0.513046078584153, ('aandacht', 'beleid'): 0.8551383437154317, ('land', 'wereld'): 0.05661924729185052, ('den', 'uitkomst'): 0.08360702768293574, ('den', 'oogst'): 0.13498142131644683, ('regering', 'versterking'): 0.21679508501024228, ('den', 'stand'): 0.17102669234244317, ('beleid', 'regering'): 0.6046615593315577, ('regering', 'toekomst'): 0.3411876659054398, ('leven', 'regering'): 1.0, ('jaar', 'kans'): 0.45383807255464226, ('land', 'werk'): 0.10118431261356574, ('land', 'vrijheid'): 0.0869308071551237, ('dag', 'den'): 1.0, ('mens', 'werk'): 0.11989807405803324, ('democratie', 'regering'): 1.0, ('regering', 'voorziening'): 0.1518678036674766, ('kabinet', 'verantwoordelijkheid'): 0.38688820944523217, ('land', 'stand'): 0.2449416306148352, ('antillen', 'nederland'): 1.0, ('maatschappij', 'regering'): 1.0, ('den', 'mijne'): 0.31602140652983446, ('jaar', 'last'): 0.49761921387047187, ('regering', 'welzijn'): 0.06377367894752164, ('regering', 'terrein'): 0.37768981720575084, ('rechtsstaat', 'samenleving'): 1.0, ('gevolg', 'land'): 1.0, ('onzekerheid', 'regering'): 1.0, ('den', 'wetgeving'): 0.03950969574258966, ('betrekking', 'vriendschappelijk'): 0.009569266403727848, ('mijne', 'zoo'): 0.028024644664312773, ('kwaliteit', 'mens'): 1.0, ('wet', 'wetboek'): 0.49874204166470915, ('beleid', 'kabinet'): 0.4292214332631125, ('ontwikkelingsland', 'regering'): 1.0, ('nederland', 'ontwikkeling'): 0.9258373739329151, ('land', 'onderwijs'): 0.5419217319997578, ('inspanning', 'ontwikkeling'): 0.9720995275166388, ('onderwijs', 'probleem'): 0.7642835103304113, ('kans', 'land'): 1.0, ('bedrijf', 'overheid'): 0.47782279061886135, ('aandacht', 'verbetering'): 0.1636841135686752, ('burger', 'veiligheid'): 0.2034905116455907, ('deel', 'nederland'): 0.6391200507187876, ('mens', '\\xe2\\x80\\x99'): 0.0016057776829289385, ('wet', 'wetgeving'): 0.6292598360898549, ('deel', 'maatregel'): 0.7244546057358726, ('jaar', 'termijn'): 0.18187340428852405, ('inspanning', 'land'): 1.0, ('aandacht', 'probleem'): 0.2922792921866791, ('grondwet', 'wet'): 0.18058388572637285, ('mens', 'probleem'): 0.4900769986448188, ('arbeid', 'jaar'): 1.0, ('algemeen', 'toestand'): 0.2518179351078237, ('belang', 'ontwikkeling'): 0.4365642791565163, ('rijk', 'uitgaf'): 0.7693467599172608, ('rijks', '\\xe2\\x80\\x98'): 0.005567995225926928, ('regering', 'werk'): 0.13837120417859433, ('zorg', '\\xe2\\x80\\x94'): 0.01737583532501759, ('nederland', 'zorg'): 0.0633862199128071, ('regering', 'steun'): 0.3017590930317506, ('den', 'opstand'): 0.12505903954491454, ('handel', 'scheepvaart'): 0.2710680926783235, ('land', 'verband'): 0.1864531622385538, ('gemeenschap', 'land'): 1.0, ('ontwikkeling', 'suriname'): 0.1528731736418692, ('belang', 'den'): 0.9377008320192455, ('jaar', 'resultaat'): 0.26955418303137557, ('regering', 'woning'): 0.08080682453888469, ('den', 'taak'): 0.1930772503137316, ('regering', 'zittingsjaar'): 0.011754450072446056, ('mens', 'voorziening'): 0.131561274134235, ('criminaliteit', 'regering'): 1.0, ('jaar', 'verbetering'): 0.1871971955514616, ('land\\xe2\\x80\\x93', 'tuinbouw'): 0.31636836584181766, ('markt', 'unie'): 0.3043708220294742, ('mens', 'ontwikkeling'): 0.7892506158009227, ('burger', 'ontwikkeling'): 0.6256146638786855, ('land', 'unie'): 0.11897859053375541, ('inkomen', 'regering'): 1.0, ('mogenden', 'zoo'): 0.027038465162365792, ('jaar', 'werk'): 0.0817643932956667, ('edel', 'zoo'): 0.017641987036049734, ('regering', 'wetsontwerp'): 0.05338645497313229, ('overheid', 'vorm'): 0.19438234568161672, ('kabinet', 'land'): 1.0, ('behoeft', 'jaar'): 1.0, ('onderzoek', 'regering'): 1.0, ('grondwet', 'herziening'): 0.9662494123792333, ('mens', 'regering'): 0.8666372584017933, ('regering', 'waarde'): 0.0760750057929569, ('economie', 'samenleving'): 0.574491779123792, ('regering', 'samenwerking'): 0.4956180696551031, ('jaar', 'samenwerking'): 0.2927644940369425, ('bevordering', 'regering'): 0.9708737068754297, ('aandacht', 'belang'): 1.0, ('land', 'periode'): 0.2269640685181669, ('land', 'werkloosheid'): 0.05189299031843182, ('den', 'onderwijs'): 0.378425951343055, ('europa', 'veiligheid'): 0.30237431647793217, ('den', 'eer'): 0.31378927456034733, ('begeleiding', 'regering'): 1.0, ('staten-generaal', 'zitting'): 0.059100259503989463, ('jaar', 'werkloosheid'): 0.041943889141282456, ('koninkrijk', 'statuut'): 0.18652855909217567, ('den', 'genoegen'): 0.2922912494187509, ('aantal', 'werkloosheid'): 0.04234818906755526, ('den', 'omstandigheid'): 0.27817663195187936, ('regering', 'structuur'): 0.27696427493786874, ('betekenis', 'land'): 1.0, ('advies', 'raad'): 0.6455619765457191, ('man', 'vrouw'): 0.22935160066661986, ('grondslag', 'regering'): 1.0, ('keuze', 'regering'): 1.0, ('belang', 'jaar'): 0.8102787390694968, ('nederland', 'versterking'): 0.220220000223715, ('regering', 'uitgaf'): 0.29850584080825293, ('burger', 'samenleving'): 0.4003171986456776, ('regering', '\\xc3\\xa9\\xc3\\xa9n'): 0.0022669191302895617, ('invoering', 'onderwijs'): 1.0, ('belang', '\\xe2\\x80\\x98'): 0.0008374295957273036, ('mens', 'zorg'): 0.05409257685365965, ('samenleving', 'veiligheid'): 0.5097490817202869, ('antillen', 'suriname'): 0.2488548951870694, ('aard', 'betrekking'): 1.0, ('ontwikkeling', 'verantwoordelijkheid'): 0.30079840767313865, ('behoeve', 'regering'): 1.0, ('ontwikkeling', 'samenleving'): 0.6398421660170774, ('maatregel', 'toekomst'): 0.30553868250983773, ('bedrijf', 'werk'): 0.08569925648388602, ('bedrijfsleven', 'regering'): 0.8480556780384979, ('hand', 'regering'): 1.0, ('aard', 'vriendschappelijk'): 0.013030594796320629, ('economie', 'overheid'): 0.7604761217333258, ('den', 'tijd'): 0.18556476599031457, ('duurzame', 'regering'): 1.0, ('volk', '\\xe2\\x80\\x94'): 0.005359886135441005, ('regeling', 'wet'): 0.24336322372268998, ('ontwikkeling', '\\xe2\\x80\\x94'): 0.0011779884657988138, ('verantwoordelijkheid', '\\xe2\\x80\\x94'): 0.003932219557902715, ('regering', 'situatie'): 0.3316818709974144, ('den', '\\xe2\\x80\\x98'): 0.0008931703700871413, ('bijdraag', 'regering'): 1.0, ('edel', 'loop'): 0.5810165451053508, ('den', 'middeel'): 0.44877041182943855, ('burger', 'economie'): 0.6972667412799015, ('jaar', 'stelsel'): 0.19959731495652008, ('belang', 'beleid'): 0.7926958508212203, ('jaar', 'versterking'): 0.1280971765968008, ('uwe', 'zitting'): 0.06045975027178213, ('loop', 'mogenden'): 1.0, ('mogelijkheid', 'werk'): 0.15003418127325657, ('jaar', 'probleem'): 0.33445230752353927, ('arbeid', 'zeeg'): 0.01732657596164562, ('den', 'mijner'): 0.21397758142067624, ('overheid', 'verbetering'): 0.4111557619007542, ('jaar', 'vergadering'): 0.157979209879784, ('antillen', 'koninkrijk'): 0.9961903936513005, ('mens', 'recht'): 0.5123809183140982, ('kracht', 'land'): 1.0, ('aandacht', 'mijne'): 0.31964772205355413, ('werkloosheid', '\\xe2\\x80\\x94'): 0.015513783625820864, ('den', 'poging'): 0.1705389988758348, ('ontwikkeling', 'probleem'): 0.6211096494505451, ('land', 'steun'): 0.22075256912366042, ('wet', 'wijziging'): 0.46581527536092415, ('jaar', 'onderwijs'): 0.43802034531076334, ('indien', 'regering'): 1.0, ('den', 'mogendheden'): 0.19585159723348264, ('jaar', 'mate'): 0.386142553651636, ('land', 'probleem'): 0.4140290691446009, ('den', 'uitgaf'): 0.15250173518393545, ('den', 'grondwet'): 0.35313862728201634, ('beleid', 'jaar'): 1.0, ('den', 'uwe'): 0.11894568987477153, ('mate', 'regering'): 1.0, ('belang', 'veiligheid'): 0.1419242022361543, ('aanpassing', 'regering'): 0.920946116925886, ('land', 'verhouding'): 0.14020927956513798, ('herstel', 'werkgelegenheid'): 0.08545684374786061, ('land', 'ontwikkelingsland'): 0.2328325045615181, ('cultuur', 'regering'): 1.0, ('burger', 'land'): 0.938686404215001, ('nijverheid', 'toestand'): 0.6253495669448279, ('onderwijs', 'opleiding'): 0.3128410908522507, ('den', 'uitbreiding'): 0.12107130179317381, ('jaar', 'ontwikkeling'): 0.5388635950118386, ('jaar', 'toekomst'): 0.20154506026341917, ('mogelijkheid', 'onderwijs'): 0.8032666360325822, ('bestrijding', 'jaar'): 1.0, ('groei', 'jaar'): 1.0, ('aandacht', 'onderwijs'): 0.38295903448529817, ('groei', 'werk'): 0.11855750374142993, ('uwe', 'wet'): 0.5372200630292513, ('kennis', 'regering'): 1.0, ('groei', 'nederland'): 0.8439963146789148, ('mijne', 'uwe'): 0.37748851468883127, ('groep', 'regering'): 1.0, ('regering', 'zekerheid'): 0.04081561064001481, ('hulp', 'regering'): 1.0, ('onderwijs', 'wet'): 0.16836816006152522, ('edel', '\\xe2\\x80\\x98'): 0.0017826711139864683, ('aandacht', 'regering'): 0.5168669030995692, ('werkgelegenheid', 'werkloosheid'): 0.8768174703031208, ('jaar', 'zekerheid'): 0.024119179053054194, ('bestuur', 'den'): 1.0, ('regering', 'verhoging'): 0.1581959406434128, ('groei', 'werkgelegenheid'): 0.07098266381274831, ('jaar', 'onzekerheid'): 0.23183412819532548, ('regering', '\\xe2\\x80\\x98'): 0.0017475974083059453, ('onderwijs', 'samenleving'): 0.7871701527462736, ('bijdrage', 'jaar'): 1.0, ('jaar', 'ontwerp'): 0.33679056192192985, ('opening', 'zitting'): 0.06556712347734288, ('jaar', 'recht'): 0.34946218416835645, ('regeling', 'regering'): 1.0, ('cultuur', 'onderwijs'): 0.8446918295006328, ('mens', 'onderwijs'): 0.6419450382998148, ('aantal', 'regering'): 0.5969723808615495, ('wet', 'zitting'): 0.11341244968981505, ('onderwijs', 'onderzoek'): 0.7791598116756716, ('burger', 'overheid'): 0.5299136318600967, ('oog', 'regering'): 1.0, ('maatregel', 'regering'): 0.8965377233885684, ('markt', 'regering'): 1.0, ('regering', 'werkloosheid'): 0.07092277303430086, ('herstel', 'ontwikkeling'): 0.9399203835334782, ('den', 'zoo'): 0.00883872856684287, ('den', 'wijze'): 0.04159475435682517, ('lidstaat', 'unie'): 0.4606248962630083, ('behoeft', 'den'): 1.0, ('procent', 'regering'): 1.0, ('maatregel', 'verbetering'): 0.28382355584672786, ('programma', 'regering'): 1.0, ('belasting', 'jaar'): 1.0, ('land', 'welvaart'): 0.06674687828303764, ('mogelijkheid', 'ontwikkeling'): 0.9878107505806162, ('herstel', 'maatregel'): 1.0, ('den', 'regeering'): 0.18199152319674453, ('edel', 'uwe'): 0.23757646540028374, ('instelling', 'onderwijs'): 0.8862117140963713, ('land', 'wet'): 0.09113243312682619, ('belang', 'nederland'): 0.47185522765482985, ('mens', 'werkloosheid'): 0.061445351165413734, ('regering', 'werkgever'): 0.10510856318982993, ('overheid', 'taak'): 0.4910404431644847, ('welvaart', 'werkgelegenheid'): 0.923285542738041, ('deel', 'jaar'): 1.0, ('den', 'gevolg'): 0.5828144743682431, ('herziening', 'wetsontwerp'): 0.08036543042517348, ('antillen', 'statuut'): 0.18492210124250844, ('werk', 'werkgever'): 0.7731055173718631, ('kracht', 'ontwikkeling'): 1.0, ('beleid', 'burger'): 0.8807332382481211, ('regering', 'stad'): 0.32941847388424805, ('deel', 'land'): 0.8873821531677674, ('toestand', 'zorg'): 0.23515139497065285, ('januari', 'regering'): 1.0, ('land', 'overleg'): 0.41886693072986747, ('den', 'verbetering'): 0.16179139760251338, ('jaar', 'nederland'): 0.582353847773418, ('handel', 'ontwikkeling'): 0.944735551214519, ('land', 'naties'): 0.28177573187099725, ('regering', 'wijziging'): 0.057452312363424046, ('belang', 'zoo'): 0.008284146492111512, ('land', 'verbetering'): 0.23168683568283413, ('den', 'einde'): 0.4676944196837438, ('loonkost', 'regering'): 1.0, ('economie', 'maatregel'): 1.0, ('overheid', 'uitgaf'): 0.3878656090854522, ('jaar', 'overleg'): 0.3384554852056803, ('beleid', 'versterking'): 0.1310322104808871, ('mens', 'toekomst'): 0.2954235219865613, ('nederland', 'verantwoordelijkheid'): 0.2783718178567853, ('den', 'inkomst'): 0.3077861042916027, ('prioriteit', 'regering'): 1.0, ('edel', 'mogenden'): 0.6547672704143952, ('deel', 'zorg'): 0.04049935835779473, ('den', 'ondervind'): 0.17109010380965128, ('land', 'organisatie'): 0.4042508015778047, ('beleid', 'samenleving'): 0.3521664116512049, ('gebied', 'maatregel'): 0.9475100261885624, ('organisatie', 'overheid'): 1.0, ('betekenis', 'regering'): 1.0, ('lands', '\\xe2\\x80\\x98'): 0.003089946165744648, ('nota', 'regering'): 1.0, ('groep', 'jaar'): 1.0, ('bevordering', 'den'): 1.0, ('jaar', 'ruimte'): 0.2287333752098998, ('gebied', 'land'): 1.0, ('den', 'ontwerp'): 0.29105683366897145, ('generatie', 'jaar'): 1.0, ('herziening', 'wet'): 0.18750537623362232, ('evenwicht', 'regering'): 1.0, ('jaar', 'welvaart'): 0.0539124516737329, ('europa', 'regering'): 1.0, ('jaar', 'rijks'): 0.187325574938125, ('den', 'overweging'): 0.1894622111821074, ('kunst', 'onderwijs'): 1.0, ('landbouw', 'regering'): 1.0, ('toestand', 'verbetering'): 1.0, ('tijd', 'wereld'): 0.21357900410188346, ('den', 'mogenden'): 0.3274807257108437, ('regering', 'wereld'): 0.07734697206087218, ('deel', 'wereld'): 0.05019182127296191, ('land', 'regering'): 0.7319884981114857, ('bestuur', 'regering'): 1.0, ('bedrijf', 'jaar'): 1.0, ('land', 'samenwerking'): 0.36262590102468434, ('centraal', 'regering'): 1.0, ('mogenden', 'uwe'): 0.3642664980516314, ('land', 'leven'): 0.6368294214061001, ('den', 'lands'): 0.2904852197623239, ('bedrijf', 'land'): 0.8465658797266242, ('land', 'recht'): 0.43262594629156936, ('regering', 'stand'): 0.33483600116536516, ('kracht', 'regering'): 1.0, ('bevolking', 'regering'): 0.8099472872679342, ('jaar', 'weg'): 0.05005991105376422, ('handel', 'land'): 1.0, ('edel', 'wet'): 0.12705233345294661, ('onderwijs', 'ontwikkeling'): 1.0, ('algemeen', 'den'): 1.0, ('herstel', 'land'): 1.0, ('jaar', 'oog'): 0.4331337213739122, ('inkomen', 'werkgelegenheid'): 0.11146165653981405, ('mogenden', 'wet'): 0.19475468770382534, ('onderwijs', 'regering'): 1.0, ('regering', 'ruimte'): 0.3871347671569461, ('den', 'jaar'): 0.8641660438686567, ('nederland', 'samenwerking'): 0.5034906208795397, ('gebied', 'samenwerking'): 0.42061481522466276, ('bijdraag', 'land'): 1.0, ('belang', 'mens'): 0.55338165598612, ('burgerlijk', 'wetboek'): 0.1415922352319859, ('aanpak', 'regering'): 0.946618933858156, ('regering', 'vernieuwing'): 0.1801834847961607, ('jaar', 'wet'): 0.07364199980610706, ('verbetering', '\\xe2\\x80\\x94'): 0.003396032733384493, ('jaar', 'vrijheid'): 0.07020520493113246, ('den', 'voldoening'): 0.05081266893195422, ('den', 'oorlog'): 0.20272163798409637, ('maatregel', 'toestand'): 0.23825088668405786, ('europa', 'jaar'): 1.0, ('werk', '\\xe2\\x80\\x99'): 0.013570987990191123, ('kwaliteit', 'land'): 1.0, ('land', 'ontwikkeling'): 0.6671403948050425, ('mens', 'ruimte'): 0.3353223366107086, ('aantal', 'land'): 0.8159571556107108, ('docent', 'onderwijs'): 1.0, ('jaar', 'zorg'): 0.03690170014302995, ('jaar', 'wereld'): 0.04571640285456988, ('beperking', 'regering'): 1.0, ('ontwikkeling', 'welvaart'): 0.10016295111120595, ('onderwijs', 'ontwerp'): 0.7701073823323841, ('den', 'ramp'): 0.14737684097521908, ('baan', 'regering'): 1.0, ('land', 'landbouw'): 0.5526120007098392, ('omstandigheid', 'regering'): 1.0, ('jaar', 'verhouding'): 0.11325220048706658, ('inkomst', 'uitgaf'): 0.4975809591362523, ('aanzien', 'den'): 1.0, ('taak', 'verantwoordelijkheid'): 0.7271681231790822, ('werk', 'werkgelegenheid'): 0.6053272804155094, ('provincie', 'regering'): 1.0, ('bevordeer', 'regering'): 1.0, ('nederland', 'toekomst'): 0.3463962845562717, ('den', 'scheepvaart'): 0.13336744533106393, ('burger', 'herstel'): 0.6665334698572778, ('onderwijs', 'wetenschap'): 0.033391628387379337}\n"
     ]
    }
   ],
   "source": [
    "print netwerkDict"
   ]
  },
  {
   "cell_type": "code",
   "execution_count": null,
   "metadata": {
    "collapsed": true
   },
   "outputs": [],
   "source": [
    "'''Dataframe van gegevens voor de troonredes per jaar'''\n",
    "df = pd.DataFrame(dataPerYear)\n",
    "yearFrame = df.transpose()\n",
    "yearFrame.columns = ['Paragrafen', 'Zinnen', 'Woorden', 'Lettergrepen']\n",
    "framefile = open(\"frame.txt\",\"wb\")\n",
    "pickle.dump( yearFrame, framefile )"
   ]
  },
  {
   "cell_type": "code",
   "execution_count": 88,
   "metadata": {
    "collapsed": true
   },
   "outputs": [],
   "source": [
    "'''Opslaan van het netwerk dictionary naar pickle'''\n",
    "netwerkfile = open(\"netwerkFull.txt\", 'wb')\n",
    "pickle.dump( netwerkDict, netwerkfile )"
   ]
  },
  {
   "cell_type": "code",
   "execution_count": 18,
   "metadata": {
    "collapsed": false
   },
   "outputs": [
    {
     "ename": "ValueError",
     "evalue": "insecure string pickle",
     "output_type": "error",
     "traceback": [
      "\u001b[1;31m---------------------------------------------------------------------------\u001b[0m",
      "\u001b[1;31mValueError\u001b[0m                                Traceback (most recent call last)",
      "\u001b[1;32m<ipython-input-18-fbaeabaf9474>\u001b[0m in \u001b[0;36m<module>\u001b[1;34m()\u001b[0m\n\u001b[0;32m      1\u001b[0m \u001b[1;31m#Openen van een opgeslagen dictionary vanuit pickle\u001b[0m\u001b[1;33m\u001b[0m\u001b[1;33m\u001b[0m\u001b[0m\n\u001b[1;32m----> 2\u001b[1;33m \u001b[0mnetwerkDict\u001b[0m \u001b[1;33m=\u001b[0m \u001b[0mpickle\u001b[0m\u001b[1;33m.\u001b[0m\u001b[0mload\u001b[0m\u001b[1;33m(\u001b[0m \u001b[0mopen\u001b[0m\u001b[1;33m(\u001b[0m \u001b[1;34m\"netwerk.p\"\u001b[0m\u001b[1;33m,\u001b[0m \u001b[1;34m\"rb\"\u001b[0m \u001b[1;33m)\u001b[0m \u001b[1;33m)\u001b[0m\u001b[1;33m\u001b[0m\u001b[0m\n\u001b[0m",
      "\u001b[1;32mC:\\Users\\lol_l\\Anaconda2\\lib\\pickle.pyc\u001b[0m in \u001b[0;36mload\u001b[1;34m(file)\u001b[0m\n\u001b[0;32m   1382\u001b[0m \u001b[1;33m\u001b[0m\u001b[0m\n\u001b[0;32m   1383\u001b[0m \u001b[1;32mdef\u001b[0m \u001b[0mload\u001b[0m\u001b[1;33m(\u001b[0m\u001b[0mfile\u001b[0m\u001b[1;33m)\u001b[0m\u001b[1;33m:\u001b[0m\u001b[1;33m\u001b[0m\u001b[0m\n\u001b[1;32m-> 1384\u001b[1;33m     \u001b[1;32mreturn\u001b[0m \u001b[0mUnpickler\u001b[0m\u001b[1;33m(\u001b[0m\u001b[0mfile\u001b[0m\u001b[1;33m)\u001b[0m\u001b[1;33m.\u001b[0m\u001b[0mload\u001b[0m\u001b[1;33m(\u001b[0m\u001b[1;33m)\u001b[0m\u001b[1;33m\u001b[0m\u001b[0m\n\u001b[0m\u001b[0;32m   1385\u001b[0m \u001b[1;33m\u001b[0m\u001b[0m\n\u001b[0;32m   1386\u001b[0m \u001b[1;32mdef\u001b[0m \u001b[0mloads\u001b[0m\u001b[1;33m(\u001b[0m\u001b[0mstr\u001b[0m\u001b[1;33m)\u001b[0m\u001b[1;33m:\u001b[0m\u001b[1;33m\u001b[0m\u001b[0m\n",
      "\u001b[1;32mC:\\Users\\lol_l\\Anaconda2\\lib\\pickle.pyc\u001b[0m in \u001b[0;36mload\u001b[1;34m(self)\u001b[0m\n\u001b[0;32m    862\u001b[0m             \u001b[1;32mwhile\u001b[0m \u001b[1;36m1\u001b[0m\u001b[1;33m:\u001b[0m\u001b[1;33m\u001b[0m\u001b[0m\n\u001b[0;32m    863\u001b[0m                 \u001b[0mkey\u001b[0m \u001b[1;33m=\u001b[0m \u001b[0mread\u001b[0m\u001b[1;33m(\u001b[0m\u001b[1;36m1\u001b[0m\u001b[1;33m)\u001b[0m\u001b[1;33m\u001b[0m\u001b[0m\n\u001b[1;32m--> 864\u001b[1;33m                 \u001b[0mdispatch\u001b[0m\u001b[1;33m[\u001b[0m\u001b[0mkey\u001b[0m\u001b[1;33m]\u001b[0m\u001b[1;33m(\u001b[0m\u001b[0mself\u001b[0m\u001b[1;33m)\u001b[0m\u001b[1;33m\u001b[0m\u001b[0m\n\u001b[0m\u001b[0;32m    865\u001b[0m         \u001b[1;32mexcept\u001b[0m \u001b[0m_Stop\u001b[0m\u001b[1;33m,\u001b[0m \u001b[0mstopinst\u001b[0m\u001b[1;33m:\u001b[0m\u001b[1;33m\u001b[0m\u001b[0m\n\u001b[0;32m    866\u001b[0m             \u001b[1;32mreturn\u001b[0m \u001b[0mstopinst\u001b[0m\u001b[1;33m.\u001b[0m\u001b[0mvalue\u001b[0m\u001b[1;33m\u001b[0m\u001b[0m\n",
      "\u001b[1;32mC:\\Users\\lol_l\\Anaconda2\\lib\\pickle.pyc\u001b[0m in \u001b[0;36mload_string\u001b[1;34m(self)\u001b[0m\n\u001b[0;32m    970\u001b[0m             \u001b[1;32mif\u001b[0m \u001b[0mrep\u001b[0m\u001b[1;33m.\u001b[0m\u001b[0mstartswith\u001b[0m\u001b[1;33m(\u001b[0m\u001b[0mq\u001b[0m\u001b[1;33m)\u001b[0m\u001b[1;33m:\u001b[0m\u001b[1;33m\u001b[0m\u001b[0m\n\u001b[0;32m    971\u001b[0m                 \u001b[1;32mif\u001b[0m \u001b[0mlen\u001b[0m\u001b[1;33m(\u001b[0m\u001b[0mrep\u001b[0m\u001b[1;33m)\u001b[0m \u001b[1;33m<\u001b[0m \u001b[1;36m2\u001b[0m \u001b[1;32mor\u001b[0m \u001b[1;32mnot\u001b[0m \u001b[0mrep\u001b[0m\u001b[1;33m.\u001b[0m\u001b[0mendswith\u001b[0m\u001b[1;33m(\u001b[0m\u001b[0mq\u001b[0m\u001b[1;33m)\u001b[0m\u001b[1;33m:\u001b[0m\u001b[1;33m\u001b[0m\u001b[0m\n\u001b[1;32m--> 972\u001b[1;33m                     \u001b[1;32mraise\u001b[0m \u001b[0mValueError\u001b[0m\u001b[1;33m,\u001b[0m \u001b[1;34m\"insecure string pickle\"\u001b[0m\u001b[1;33m\u001b[0m\u001b[0m\n\u001b[0m\u001b[0;32m    973\u001b[0m                 \u001b[0mrep\u001b[0m \u001b[1;33m=\u001b[0m \u001b[0mrep\u001b[0m\u001b[1;33m[\u001b[0m\u001b[0mlen\u001b[0m\u001b[1;33m(\u001b[0m\u001b[0mq\u001b[0m\u001b[1;33m)\u001b[0m\u001b[1;33m:\u001b[0m\u001b[1;33m-\u001b[0m\u001b[0mlen\u001b[0m\u001b[1;33m(\u001b[0m\u001b[0mq\u001b[0m\u001b[1;33m)\u001b[0m\u001b[1;33m]\u001b[0m\u001b[1;33m\u001b[0m\u001b[0m\n\u001b[0;32m    974\u001b[0m                 \u001b[1;32mbreak\u001b[0m\u001b[1;33m\u001b[0m\u001b[0m\n",
      "\u001b[1;31mValueError\u001b[0m: insecure string pickle"
     ]
    }
   ],
   "source": [
    "#Openen van een opgeslagen dictionary vanuit pickle\n",
    "netwerkDict = pickle.load( open( \"netwerkFull.txt\", \"rb\" ) )"
   ]
  },
  {
   "cell_type": "code",
   "execution_count": 15,
   "metadata": {
    "collapsed": false
   },
   "outputs": [
    {
     "name": "stdout",
     "output_type": "stream",
     "text": [
      "Populating the interactive namespace from numpy and matplotlib\n"
     ]
    },
    {
     "name": "stderr",
     "output_type": "stream",
     "text": [
      "WARNING: pylab import has clobbered these variables: ['info']\n",
      "`%matplotlib` prevents importing * from pylab and numpy\n"
     ]
    }
   ],
   "source": [
    "'''Vergroten van de graphs zodat ze duidelijker zijn'''\n",
    "%pylab inline\n",
    "pylab.rcParams['figure.figsize'] = 16, 12"
   ]
  },
  {
   "cell_type": "code",
   "execution_count": 60,
   "metadata": {
    "collapsed": false
   },
   "outputs": [
    {
     "data": {
      "image/png": "[encoded data removed]",
      "text/plain": [
       "<matplotlib.figure.Figure at 0xbe29b860>"
      ]
     },
     "metadata": {},
     "output_type": "display_data"
    },
    {
     "data": {
      "text/plain": [
       "<matplotlib.figure.Figure at 0xc14c8438>"
      ]
     },
     "metadata": {},
     "output_type": "display_data"
    }
   ],
   "source": [
    "'''Creeëren van de weighted graph vanuit de gevonden similarity scores'''\n",
    "G = nx.Graph()\n",
    "for item in netwerkDict:\n",
    "    G.add_edge(item[0],item[1],weight=netwerkDict[item])\n",
    "    \n",
    "pos=nx.spring_layout(G) # positions for all nodes\n",
    "\n",
    "# nodes\n",
    "nx.draw_networkx_nodes(G,pos,node_size=200)\n",
    "\n",
    "# edges\n",
    "nx.draw_networkx_edges(G,pos, width=4)\n",
    "\n",
    "# labels\n",
    "nx.draw_networkx_labels(G,pos,font_size=10,font_family='sans-serif')\n",
    "\n",
    "plt.axis('off')\n",
    "plt.savefig(\"weighted_graph.png\") # save as png\n",
    "plt.figure(figsize=(1000,1000))\n",
    "plt.show() # display"
   ]
  },
  {
   "cell_type": "code",
   "execution_count": null,
   "metadata": {
    "collapsed": true
   },
   "outputs": [],
   "source": [
    "# Learn about API authentication here: https://plot.ly/python/getting-started\n",
    "# Find your api_key here: https://plot.ly/settings/api\n",
    "\n",
    "# create our stacked data manually\n",
    "y0 = np.random.rand(100)\n",
    "y1 = y0 + np.random.rand(100)\n",
    "y2 = y1 + np.random.rand(100)\n",
    "capacity = 3*np.ones(100)\n",
    "\n",
    "# make the mpl plot (no fill yet)\n",
    "fig, ax = plt.subplots()\n",
    "ax.plot(y0, label='y0')\n",
    "ax.plot(y1, label='y1')\n",
    "ax.plot(y2, label='y2')\n",
    "ax.plot(capacity, label='capacity')\n",
    "\n",
    "# set all traces' \"fill\" so that it fills to the next 'y' trace\n",
    "update = {'data':[{'fill': 'tonexty'}]}\n",
    "\n",
    "# strip style just lets Plotly make the styling choices (e.g., colors)\n",
    "plot_url = py.plot_mpl(fig, update=update, strip_style=True, filename='mpl-stacked-line')\n"
   ]
  }
 ],
 "metadata": {
  "kernelspec": {
   "display_name": "Python 2",
   "language": "python",
   "name": "python2"
  },
  "language_info": {
   "codemirror_mode": {
    "name": "ipython",
    "version": 2
   },
   "file_extension": ".py",
   "mimetype": "text/x-python",
   "name": "python",
   "nbconvert_exporter": "python",
   "pygments_lexer": "ipython2",
   "version": "2.7.11"
  }
 },
 "nbformat": 4,
 "nbformat_minor": 0
}
