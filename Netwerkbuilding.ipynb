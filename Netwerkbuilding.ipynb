{
 "cells": [
  {
   "cell_type": "code",
   "execution_count": null,
   "metadata": {
    "collapsed": true
   },
   "outputs": [],
   "source": [
    "%matplotlib inline\n",
    "import pandas as pd\n",
    "import re\n",
    "from lxml import etree \n",
    "from bz2file import BZ2File\n",
    "import bz2\n",
    "import codecs\n",
    "import xml\n",
    "import glob\n",
    "import os\n",
    "import bs4\n",
    "import collections\n",
    "import itertools\n",
    "import math\n",
    "import networkx as nx\n",
    "import community\n",
    "import pickle\n",
    "from collections import defaultdict, Counter\n",
    "from bs4 import BeautifulSoup\n",
    "from pattern.nl import parsetree, pprint, singularize, pluralize\n",
    "from pattern.metrics import readability\n",
    "from xml import parsers\n",
    "import xml.parsers.expat\n",
    "from xml.etree import cElementTree as ET\n",
    "from xml.dom.minidom import parse\n",
    "import matplotlib.pyplot as plt\n",
    "from IPython.display import display, HTML "
   ]
  },
  {
   "cell_type": "code",
   "execution_count": null,
   "metadata": {
    "collapsed": true
   },
   "outputs": [],
   "source": [
    "def parse_troonrede(f):\n",
    "    '''Read a troonrede file, extract all text and output a list of lists, \n",
    "    each element is a paragraph containing a list of sentences,\n",
    "    each sentence is parsed.'''\n",
    "    soup= BeautifulSoup(open(f).read())\n",
    "    ourdiv=soup.find('div', id=\"post-content\") \n",
    "    ourpars= [parsetree(p.text, lemmata=True, Relations=True) for p in ourdiv.findAll('p')[1:-1]]\n",
    "    return ourpars\n",
    "\n",
    "# this applies step 2 to all troonredes \n",
    "def parse_corpus(folder):\n",
    "    alltroonredes= glob.glob(os.path.join(folder, '*.html'))\n",
    "    troonredes={}\n",
    "    for troonrede in alltroonredes:\n",
    "        key= troonrede.split('\\\\')[1].replace('.html','')\n",
    "        value= parse_troonrede(troonrede)\n",
    "        troonredes[key]=value\n",
    "    return troonredes\n",
    "\n",
    "parsedtroonredes= parse_corpus('files')\n",
    "print \"Troonrede parsing\""
   ]
  },
  {
   "cell_type": "code",
   "execution_count": null,
   "metadata": {
    "collapsed": true
   },
   "outputs": [],
   "source": [
    "'''Gehele corpus met lemmatiseren'''\n",
    "def processText(parsedcorpus):\n",
    "    wordsPerPara= [list([ w.lemma for s in p for w in s.nouns])  for p in parsedcorpus  ]\n",
    "    return wordsPerPara\n",
    "\n",
    "tekst= {k:processText(parsedtroonredes[k]) for k in parsedtroonredes}"
   ]
  },
  {
   "cell_type": "code",
   "execution_count": null,
   "metadata": {
    "collapsed": true
   },
   "outputs": [],
   "source": [
    "'''Alle gelemmatiseerde woorden en hoevaak ze voorkomen in het corpus'''\n",
    "lemmaDict = {}\n",
    "for troonrede in sorted(tekst):\n",
    "    for paragraph in tekst[troonrede]:\n",
    "        for word in paragraph:\n",
    "            try:\n",
    "                if str(word) in lemmaDict:\n",
    "                    lemmaDict[str(word)] += 1\n",
    "                else:\n",
    "                    lemmaDict[str(word)] = 1\n",
    "            except:\n",
    "                pass"
   ]
  },
  {
   "cell_type": "code",
   "execution_count": null,
   "metadata": {
    "collapsed": true
   },
   "outputs": [],
   "source": [
    "'''Gebruikt de dictionary van gelemmatiseerde woorden om een dictionary te maken van alle mogelijke combinaties van 2 woorden'''\n",
    "wordlist = []\n",
    "fullCombiDict = {}\n",
    "for word in lemmaDict:\n",
    "    word = re.sub(r'[^\\w]', '', word)\n",
    "    if len(word) > 2:\n",
    "        wordlist.append(word)\n",
    "for combi in itertools.combinations(sorted(wordlist),2):\n",
    "    fullCombiDict[combi] = 0"
   ]
  },
  {
   "cell_type": "code",
   "execution_count": null,
   "metadata": {
    "collapsed": true
   },
   "outputs": [],
   "source": [
    "'''Bouwen van de collocatie dataframe voor alle troonredes'''\n",
    "yearCombiDict = {}\n",
    "for troonrede in tekst:\n",
    "    combiDict = {}\n",
    "    for paragraph in tekst[troonrede]:\n",
    "        words = []\n",
    "        for word in paragraph:\n",
    "            word = re.sub(r'[^\\w]', '', word)\n",
    "            if len(word) > 2:\n",
    "                words.append(word)\n",
    "        for combi in itertools.combinations(sorted(words),2):\n",
    "            if combi in fullCombiDict:\n",
    "                fullCombiDict[combi] += 1\n",
    "            else:\n",
    "                pass\n",
    "            if combi in combiDict:\n",
    "                combiDict[combi] += 1\n",
    "            else:\n",
    "                combiDict[combi] = 1\n",
    "    yearCombiDict[troonrede] = combiDict"
   ]
  },
  {
   "cell_type": "code",
   "execution_count": null,
   "metadata": {
    "collapsed": true
   },
   "outputs": [],
   "source": [
    "'''Functie om P(w) te berekenen'''\n",
    "def findW(word):\n",
    "    count = 0\n",
    "    for troonrede in sorted(tekst):\n",
    "        for paragraph in tekst[troonrede]:\n",
    "            if word in paragraph:\n",
    "                count += 1\n",
    "    value = float(count)/paragraphCount\n",
    "    return value\n",
    "\n",
    "'''Functie om P(w,c) te berekenen'''\n",
    "def findWC(W,C):\n",
    "    count = 0\n",
    "    for troonrede in sorted(tekst):\n",
    "        for paragraph in tekst[troonrede]:\n",
    "            if W in paragraph and C in paragraph:\n",
    "                count += 1\n",
    "    value = float(count)/paragraphCount\n",
    "    return value\n",
    "\n",
    "'''Functie om I(w,c) te berekenen'''\n",
    "def findI(W1,W2):\n",
    "    total = 0\n",
    "    for word in lemmaDict:\n",
    "        if word != W1 and word != W2:\n",
    "            part1 = findWC(W1,word)\n",
    "            part2 = findW(W1)\n",
    "            part3 = findW(word)\n",
    "            if part1 != 0 and (part2*part3) != 0: \n",
    "                check = math.log(part1/(part2*part3))\n",
    "                if check > 0:\n",
    "                    total += check\n",
    "    return float(total)\n",
    "                \n",
    "'''Functie om de score S(w1,w2) te bepalen'''\n",
    "def score(W1,W2):\n",
    "    score = 0\n",
    "    part1 = findI(W1,W2)\n",
    "    if part1 == 0:\n",
    "        return score\n",
    "    part2 = findI(W2,W1)\n",
    "    if part2 == 0:\n",
    "        return score\n",
    "    score = min(part1,part2)/part1\n",
    "    return score"
   ]
  },
  {
   "cell_type": "code",
   "execution_count": null,
   "metadata": {
    "collapsed": true
   },
   "outputs": [],
   "source": [
    "'''Berekenen van de proximity score over alle collocaties'''\n",
    "def networkBuilder ():\n",
    "    counter = 1\n",
    "    netwerkDict = {}\n",
    "    for combi in fullCombiDict:\n",
    "        if counter < 101:\n",
    "            if fullCombiDict[combi] > 0:\n",
    "                if combi[0] != combi[1]:\n",
    "                    print counter\n",
    "                    weight = score(combi[0],combi[1])\n",
    "                    if weight > 0:\n",
    "                        netwerkDict[combi] = weight\n",
    "                    counter += 1\n",
    "            else:\n",
    "                pass\n",
    "        else:\n",
    "            return netwerkDict\n",
    "    return netwerkDict"
   ]
  },
  {
   "cell_type": "code",
   "execution_count": null,
   "metadata": {
    "collapsed": true
   },
   "outputs": [],
   "source": [
    "%timeit netwerkDict = networkBuilder()"
   ]
  }
 ],
 "metadata": {
  "kernelspec": {
   "display_name": "Python 2",
   "language": "python",
   "name": "python2"
  },
  "language_info": {
   "codemirror_mode": {
    "name": "ipython",
    "version": 2
   },
   "file_extension": ".py",
   "mimetype": "text/x-python",
   "name": "python",
   "nbconvert_exporter": "python",
   "pygments_lexer": "ipython2",
   "version": "2.7.11"
  }
 },
 "nbformat": 4,
 "nbformat_minor": 0
}
